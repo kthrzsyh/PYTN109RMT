{
 "cells": [
  {
   "cell_type": "markdown",
   "metadata": {},
   "source": [
    "# Teori Statistics\n",
    "Distribution\n",
    "\n",
    "- Random Variable\n",
    "\n",
    "Random Variable adalah satu titik data, dari sample data yang kita miliki. Satu titik data (variable) yang kita ambil secara acak (random).\n",
    "\n",
    "- Discrete Random Variable\n",
    "- Continuous Random Variable\n",
    "\n",
    "Discrete adalah saat value dari random variable tersebut bersifat bulat. Setiap nilai terpisah dengan jelas dari nilai lainnya. Tidak ada nilai di \"antara\" dua nilai. --> bar chart\n",
    "\n",
    "Continuous adalah saat value dari random variable bersifat berjalan terus tanpa pemisah yang pasti. Data yang mengalir seperti ini tidak bisa kita hitung dengan mudah, biasanya kita perlu buat \"bin\" untuk range data tertentu, baru kita hitung ada berapa titik data yang masuk ke setiap bin berbeda. --> histogram\n",
    "\n",
    "\n",
    "Untuk menentukan berapa kemungkinan kita mendapat value random variable tertentu dari dataset kita, kita mau membuat grafik distribusi\n",
    "\n",
    "jenis data berbeda akan membentuk jenis distribusi berbeda, akan fokus ke distribusi normal.\n",
    "\n",
    "# Teknik Inferential Statistics\n",
    "1. Confidence Interval\n",
    "2. Hypothesis Testing\n",
    "\n"
   ]
  },
  {
   "cell_type": "markdown",
   "metadata": {},
   "source": [
    "### Confidence Interval\n",
    "\n",
    "membuat \"tengah\" datanya menggunakan range. Sekaligus memberi informasi penyebaran datanya.\n",
    "\n",
    "dibandingkan dengan menyebutkan rata2 tinggi 15 anak adalah 150 cm, kita akan buat range nya.\n",
    "\n",
    "Formula Confidence Interval :\n",
    "\n",
    "- best_estimate +- margin_of_error\n",
    "- dari (best_estimate - margin_of_error) sampai (best_estimate + margin_of_error)\n",
    "\n",
    "\n",
    "misalnya best_estimate tinggi badan pria (dari sample data) adl rata2 175cm\n",
    ", dengan margin of error di 5cm, maka confidence intervalnya adalah 175-5cm sampai 175+5cm ===> 170 sampai 180 cm\n",
    "\n",
    "untuk confidence_interval *rata-rata*\n",
    "- best_estimate = rata-rata\n",
    "- margin_of_error = z * standard_error\n",
    "- standard_error = standard_deviation / sqrt(jumlah_data)\n",
    "\n",
    "kenapa ada jumlah data di kalkulasi ? jumlah data mempengaruhi akurasi data yang dimiliki.\n",
    "\n",
    "semakin besar jumlah datanya, maka standard error semakin kecil. asumsi makin banyak data maka lebih akurat\n",
    "\n",
    "z adalah representasi seberapa yakin kita terhadap interval ini ? \n",
    "semakin yakin, maka z semakin besar. karena semakin kita yakin, misalnya 99% maka range yg kita kasih harus semakin besar, include semua populasi yang mungkin ada\n",
    "\n",
    "untuk confidence_interval *proporsi*\n",
    "- best_estimate = proporsi\n",
    "- margin_of_error = z * standard_error\n",
    "- standard_error = sqrt(proporsi * (1-proporsi) / jumlah_data)\n"
   ]
  },
  {
   "cell_type": "markdown",
   "metadata": {},
   "source": [
    "## Case Study - Heart Disease dataset\n",
    "kita akan gunakan data tentang pasien sakit jantung dari https://raw.githubusercontent.com/stefkwan-h8/dataset/refs/heads/main/heart.csv  (data aslinya dari https://www.kaggle.com/ronitf/heart-disease-uci ) untuk menghitung confidence interval\n",
    "\n",
    "berikut beberapa konteks arti data di kolom tertentu\n",
    "- sex (gender, 1 = Pria, 0 = Wanita)\n",
    "- chest pain type (tipe sakit di dada, ada 4 jenis)\n",
    "- fasting blood sugar > 120 mg/dl (tingkat gula darah >= 120 mg/dl, 1 = ya, 0 = tidak)\n",
    "- exercise induced angina (merasakan sakit dada saat olahraga? 1 = ya, 0 = tidak)\n",
    "- target (0 = sehat; 1 = sakit jantung)"
   ]
  },
  {
   "cell_type": "code",
   "execution_count": 2,
   "metadata": {},
   "outputs": [],
   "source": [
    "import pandas as pd\n",
    "import numpy as np"
   ]
  },
  {
   "cell_type": "code",
   "execution_count": 3,
   "metadata": {},
   "outputs": [
    {
     "data": {
      "text/html": [
       "<div>\n",
       "<style scoped>\n",
       "    .dataframe tbody tr th:only-of-type {\n",
       "        vertical-align: middle;\n",
       "    }\n",
       "\n",
       "    .dataframe tbody tr th {\n",
       "        vertical-align: top;\n",
       "    }\n",
       "\n",
       "    .dataframe thead th {\n",
       "        text-align: right;\n",
       "    }\n",
       "</style>\n",
       "<table border=\"1\" class=\"dataframe\">\n",
       "  <thead>\n",
       "    <tr style=\"text-align: right;\">\n",
       "      <th></th>\n",
       "      <th>age</th>\n",
       "      <th>sex</th>\n",
       "      <th>cp</th>\n",
       "      <th>trestbps</th>\n",
       "      <th>chol</th>\n",
       "      <th>fbs</th>\n",
       "      <th>restecg</th>\n",
       "      <th>thalach</th>\n",
       "      <th>exang</th>\n",
       "      <th>oldpeak</th>\n",
       "      <th>slope</th>\n",
       "      <th>ca</th>\n",
       "      <th>thal</th>\n",
       "      <th>target</th>\n",
       "    </tr>\n",
       "  </thead>\n",
       "  <tbody>\n",
       "    <tr>\n",
       "      <th>0</th>\n",
       "      <td>52</td>\n",
       "      <td>1</td>\n",
       "      <td>0</td>\n",
       "      <td>125</td>\n",
       "      <td>212</td>\n",
       "      <td>0</td>\n",
       "      <td>1</td>\n",
       "      <td>168</td>\n",
       "      <td>0</td>\n",
       "      <td>1.0</td>\n",
       "      <td>2</td>\n",
       "      <td>2</td>\n",
       "      <td>3</td>\n",
       "      <td>0</td>\n",
       "    </tr>\n",
       "    <tr>\n",
       "      <th>1</th>\n",
       "      <td>53</td>\n",
       "      <td>1</td>\n",
       "      <td>0</td>\n",
       "      <td>140</td>\n",
       "      <td>203</td>\n",
       "      <td>1</td>\n",
       "      <td>0</td>\n",
       "      <td>155</td>\n",
       "      <td>1</td>\n",
       "      <td>3.1</td>\n",
       "      <td>0</td>\n",
       "      <td>0</td>\n",
       "      <td>3</td>\n",
       "      <td>0</td>\n",
       "    </tr>\n",
       "    <tr>\n",
       "      <th>2</th>\n",
       "      <td>70</td>\n",
       "      <td>1</td>\n",
       "      <td>0</td>\n",
       "      <td>145</td>\n",
       "      <td>174</td>\n",
       "      <td>0</td>\n",
       "      <td>1</td>\n",
       "      <td>125</td>\n",
       "      <td>1</td>\n",
       "      <td>2.6</td>\n",
       "      <td>0</td>\n",
       "      <td>0</td>\n",
       "      <td>3</td>\n",
       "      <td>0</td>\n",
       "    </tr>\n",
       "    <tr>\n",
       "      <th>3</th>\n",
       "      <td>61</td>\n",
       "      <td>1</td>\n",
       "      <td>0</td>\n",
       "      <td>148</td>\n",
       "      <td>203</td>\n",
       "      <td>0</td>\n",
       "      <td>1</td>\n",
       "      <td>161</td>\n",
       "      <td>0</td>\n",
       "      <td>0.0</td>\n",
       "      <td>2</td>\n",
       "      <td>1</td>\n",
       "      <td>3</td>\n",
       "      <td>0</td>\n",
       "    </tr>\n",
       "    <tr>\n",
       "      <th>4</th>\n",
       "      <td>62</td>\n",
       "      <td>0</td>\n",
       "      <td>0</td>\n",
       "      <td>138</td>\n",
       "      <td>294</td>\n",
       "      <td>1</td>\n",
       "      <td>1</td>\n",
       "      <td>106</td>\n",
       "      <td>0</td>\n",
       "      <td>1.9</td>\n",
       "      <td>1</td>\n",
       "      <td>3</td>\n",
       "      <td>2</td>\n",
       "      <td>0</td>\n",
       "    </tr>\n",
       "  </tbody>\n",
       "</table>\n",
       "</div>"
      ],
      "text/plain": [
       "   age  sex  cp  trestbps  chol  fbs  restecg  thalach  exang  oldpeak  slope  \\\n",
       "0   52    1   0       125   212    0        1      168      0      1.0      2   \n",
       "1   53    1   0       140   203    1        0      155      1      3.1      0   \n",
       "2   70    1   0       145   174    0        1      125      1      2.6      0   \n",
       "3   61    1   0       148   203    0        1      161      0      0.0      2   \n",
       "4   62    0   0       138   294    1        1      106      0      1.9      1   \n",
       "\n",
       "   ca  thal  target  \n",
       "0   2     3       0  \n",
       "1   0     3       0  \n",
       "2   0     3       0  \n",
       "3   1     3       0  \n",
       "4   3     2       0  "
      ]
     },
     "execution_count": 3,
     "metadata": {},
     "output_type": "execute_result"
    }
   ],
   "source": [
    "#import data\n",
    "\n",
    "df_heart = pd.read_csv(\"https://raw.githubusercontent.com/stefkwan-h8/dataset/refs/heads/main/heart.csv \")\n",
    "df_heart.head()"
   ]
  },
  {
   "cell_type": "code",
   "execution_count": 4,
   "metadata": {},
   "outputs": [
    {
     "name": "stdout",
     "output_type": "stream",
     "text": [
      "<class 'pandas.core.frame.DataFrame'>\n",
      "RangeIndex: 1025 entries, 0 to 1024\n",
      "Data columns (total 14 columns):\n",
      " #   Column    Non-Null Count  Dtype  \n",
      "---  ------    --------------  -----  \n",
      " 0   age       1025 non-null   int64  \n",
      " 1   sex       1025 non-null   int64  \n",
      " 2   cp        1025 non-null   int64  \n",
      " 3   trestbps  1025 non-null   int64  \n",
      " 4   chol      1025 non-null   int64  \n",
      " 5   fbs       1025 non-null   int64  \n",
      " 6   restecg   1025 non-null   int64  \n",
      " 7   thalach   1025 non-null   int64  \n",
      " 8   exang     1025 non-null   int64  \n",
      " 9   oldpeak   1025 non-null   float64\n",
      " 10  slope     1025 non-null   int64  \n",
      " 11  ca        1025 non-null   int64  \n",
      " 12  thal      1025 non-null   int64  \n",
      " 13  target    1025 non-null   int64  \n",
      "dtypes: float64(1), int64(13)\n",
      "memory usage: 112.2 KB\n"
     ]
    }
   ],
   "source": [
    "df_heart.info()"
   ]
  },
  {
   "cell_type": "markdown",
   "metadata": {},
   "source": [
    "misalnya buat statement \"orang yg sakit jantung tingkat kolestrolnya ada di angka...\"\n",
    "\n",
    "kita cari confidence interval rata2 kolestrol untuk pasien sakit jantung"
   ]
  },
  {
   "cell_type": "code",
   "execution_count": 5,
   "metadata": {},
   "outputs": [
    {
     "data": {
      "text/html": [
       "<div>\n",
       "<style scoped>\n",
       "    .dataframe tbody tr th:only-of-type {\n",
       "        vertical-align: middle;\n",
       "    }\n",
       "\n",
       "    .dataframe tbody tr th {\n",
       "        vertical-align: top;\n",
       "    }\n",
       "\n",
       "    .dataframe thead th {\n",
       "        text-align: right;\n",
       "    }\n",
       "</style>\n",
       "<table border=\"1\" class=\"dataframe\">\n",
       "  <thead>\n",
       "    <tr style=\"text-align: right;\">\n",
       "      <th></th>\n",
       "      <th>age</th>\n",
       "      <th>sex</th>\n",
       "      <th>cp</th>\n",
       "      <th>trestbps</th>\n",
       "      <th>chol</th>\n",
       "      <th>fbs</th>\n",
       "      <th>restecg</th>\n",
       "      <th>thalach</th>\n",
       "      <th>exang</th>\n",
       "      <th>oldpeak</th>\n",
       "      <th>slope</th>\n",
       "      <th>ca</th>\n",
       "      <th>thal</th>\n",
       "      <th>target</th>\n",
       "    </tr>\n",
       "  </thead>\n",
       "  <tbody>\n",
       "    <tr>\n",
       "      <th>5</th>\n",
       "      <td>58</td>\n",
       "      <td>0</td>\n",
       "      <td>0</td>\n",
       "      <td>100</td>\n",
       "      <td>248</td>\n",
       "      <td>0</td>\n",
       "      <td>0</td>\n",
       "      <td>122</td>\n",
       "      <td>0</td>\n",
       "      <td>1.0</td>\n",
       "      <td>1</td>\n",
       "      <td>0</td>\n",
       "      <td>2</td>\n",
       "      <td>1</td>\n",
       "    </tr>\n",
       "    <tr>\n",
       "      <th>10</th>\n",
       "      <td>71</td>\n",
       "      <td>0</td>\n",
       "      <td>0</td>\n",
       "      <td>112</td>\n",
       "      <td>149</td>\n",
       "      <td>0</td>\n",
       "      <td>1</td>\n",
       "      <td>125</td>\n",
       "      <td>0</td>\n",
       "      <td>1.6</td>\n",
       "      <td>1</td>\n",
       "      <td>0</td>\n",
       "      <td>2</td>\n",
       "      <td>1</td>\n",
       "    </tr>\n",
       "    <tr>\n",
       "      <th>12</th>\n",
       "      <td>34</td>\n",
       "      <td>0</td>\n",
       "      <td>1</td>\n",
       "      <td>118</td>\n",
       "      <td>210</td>\n",
       "      <td>0</td>\n",
       "      <td>1</td>\n",
       "      <td>192</td>\n",
       "      <td>0</td>\n",
       "      <td>0.7</td>\n",
       "      <td>2</td>\n",
       "      <td>0</td>\n",
       "      <td>2</td>\n",
       "      <td>1</td>\n",
       "    </tr>\n",
       "    <tr>\n",
       "      <th>15</th>\n",
       "      <td>34</td>\n",
       "      <td>0</td>\n",
       "      <td>1</td>\n",
       "      <td>118</td>\n",
       "      <td>210</td>\n",
       "      <td>0</td>\n",
       "      <td>1</td>\n",
       "      <td>192</td>\n",
       "      <td>0</td>\n",
       "      <td>0.7</td>\n",
       "      <td>2</td>\n",
       "      <td>0</td>\n",
       "      <td>2</td>\n",
       "      <td>1</td>\n",
       "    </tr>\n",
       "    <tr>\n",
       "      <th>16</th>\n",
       "      <td>51</td>\n",
       "      <td>0</td>\n",
       "      <td>2</td>\n",
       "      <td>140</td>\n",
       "      <td>308</td>\n",
       "      <td>0</td>\n",
       "      <td>0</td>\n",
       "      <td>142</td>\n",
       "      <td>0</td>\n",
       "      <td>1.5</td>\n",
       "      <td>2</td>\n",
       "      <td>1</td>\n",
       "      <td>2</td>\n",
       "      <td>1</td>\n",
       "    </tr>\n",
       "    <tr>\n",
       "      <th>...</th>\n",
       "      <td>...</td>\n",
       "      <td>...</td>\n",
       "      <td>...</td>\n",
       "      <td>...</td>\n",
       "      <td>...</td>\n",
       "      <td>...</td>\n",
       "      <td>...</td>\n",
       "      <td>...</td>\n",
       "      <td>...</td>\n",
       "      <td>...</td>\n",
       "      <td>...</td>\n",
       "      <td>...</td>\n",
       "      <td>...</td>\n",
       "      <td>...</td>\n",
       "    </tr>\n",
       "    <tr>\n",
       "      <th>1011</th>\n",
       "      <td>45</td>\n",
       "      <td>1</td>\n",
       "      <td>1</td>\n",
       "      <td>128</td>\n",
       "      <td>308</td>\n",
       "      <td>0</td>\n",
       "      <td>0</td>\n",
       "      <td>170</td>\n",
       "      <td>0</td>\n",
       "      <td>0.0</td>\n",
       "      <td>2</td>\n",
       "      <td>0</td>\n",
       "      <td>2</td>\n",
       "      <td>1</td>\n",
       "    </tr>\n",
       "    <tr>\n",
       "      <th>1014</th>\n",
       "      <td>44</td>\n",
       "      <td>0</td>\n",
       "      <td>2</td>\n",
       "      <td>108</td>\n",
       "      <td>141</td>\n",
       "      <td>0</td>\n",
       "      <td>1</td>\n",
       "      <td>175</td>\n",
       "      <td>0</td>\n",
       "      <td>0.6</td>\n",
       "      <td>1</td>\n",
       "      <td>0</td>\n",
       "      <td>2</td>\n",
       "      <td>1</td>\n",
       "    </tr>\n",
       "    <tr>\n",
       "      <th>1019</th>\n",
       "      <td>47</td>\n",
       "      <td>1</td>\n",
       "      <td>0</td>\n",
       "      <td>112</td>\n",
       "      <td>204</td>\n",
       "      <td>0</td>\n",
       "      <td>1</td>\n",
       "      <td>143</td>\n",
       "      <td>0</td>\n",
       "      <td>0.1</td>\n",
       "      <td>2</td>\n",
       "      <td>0</td>\n",
       "      <td>2</td>\n",
       "      <td>1</td>\n",
       "    </tr>\n",
       "    <tr>\n",
       "      <th>1020</th>\n",
       "      <td>59</td>\n",
       "      <td>1</td>\n",
       "      <td>1</td>\n",
       "      <td>140</td>\n",
       "      <td>221</td>\n",
       "      <td>0</td>\n",
       "      <td>1</td>\n",
       "      <td>164</td>\n",
       "      <td>1</td>\n",
       "      <td>0.0</td>\n",
       "      <td>2</td>\n",
       "      <td>0</td>\n",
       "      <td>2</td>\n",
       "      <td>1</td>\n",
       "    </tr>\n",
       "    <tr>\n",
       "      <th>1023</th>\n",
       "      <td>50</td>\n",
       "      <td>0</td>\n",
       "      <td>0</td>\n",
       "      <td>110</td>\n",
       "      <td>254</td>\n",
       "      <td>0</td>\n",
       "      <td>0</td>\n",
       "      <td>159</td>\n",
       "      <td>0</td>\n",
       "      <td>0.0</td>\n",
       "      <td>2</td>\n",
       "      <td>0</td>\n",
       "      <td>2</td>\n",
       "      <td>1</td>\n",
       "    </tr>\n",
       "  </tbody>\n",
       "</table>\n",
       "<p>526 rows × 14 columns</p>\n",
       "</div>"
      ],
      "text/plain": [
       "      age  sex  cp  trestbps  chol  fbs  restecg  thalach  exang  oldpeak  \\\n",
       "5      58    0   0       100   248    0        0      122      0      1.0   \n",
       "10     71    0   0       112   149    0        1      125      0      1.6   \n",
       "12     34    0   1       118   210    0        1      192      0      0.7   \n",
       "15     34    0   1       118   210    0        1      192      0      0.7   \n",
       "16     51    0   2       140   308    0        0      142      0      1.5   \n",
       "...   ...  ...  ..       ...   ...  ...      ...      ...    ...      ...   \n",
       "1011   45    1   1       128   308    0        0      170      0      0.0   \n",
       "1014   44    0   2       108   141    0        1      175      0      0.6   \n",
       "1019   47    1   0       112   204    0        1      143      0      0.1   \n",
       "1020   59    1   1       140   221    0        1      164      1      0.0   \n",
       "1023   50    0   0       110   254    0        0      159      0      0.0   \n",
       "\n",
       "      slope  ca  thal  target  \n",
       "5         1   0     2       1  \n",
       "10        1   0     2       1  \n",
       "12        2   0     2       1  \n",
       "15        2   0     2       1  \n",
       "16        2   1     2       1  \n",
       "...     ...  ..   ...     ...  \n",
       "1011      2   0     2       1  \n",
       "1014      1   0     2       1  \n",
       "1019      2   0     2       1  \n",
       "1020      2   0     2       1  \n",
       "1023      2   0     2       1  \n",
       "\n",
       "[526 rows x 14 columns]"
      ]
     },
     "execution_count": 5,
     "metadata": {},
     "output_type": "execute_result"
    }
   ],
   "source": [
    "df_sakit = df_heart[df_heart['target']==1]\n",
    "df_sakit"
   ]
  },
  {
   "cell_type": "code",
   "execution_count": 6,
   "metadata": {},
   "outputs": [
    {
     "data": {
      "text/plain": [
       "240.97908745247148"
      ]
     },
     "execution_count": 6,
     "metadata": {},
     "output_type": "execute_result"
    }
   ],
   "source": [
    "df_sakit['chol'].mean()"
   ]
  },
  {
   "cell_type": "code",
   "execution_count": 7,
   "metadata": {},
   "outputs": [
    {
     "name": "stdout",
     "output_type": "stream",
     "text": [
      "[236.4488201044286, 245.50935480051436]\n"
     ]
    }
   ],
   "source": [
    "best_estimate = df_sakit['chol'].mean()\n",
    "\n",
    "z = 1.96 #asumsi tingkat keyakinan di 95%\n",
    "standard_deviation = df_sakit['chol'].std()\n",
    "jumlah_data = df_sakit['chol'].count()\n",
    "standard_error = standard_deviation / np.sqrt(jumlah_data)\n",
    "\n",
    "margin_of_error = z * standard_error\n",
    "\n",
    "print([best_estimate - margin_of_error, best_estimate + margin_of_error])"
   ]
  },
  {
   "cell_type": "code",
   "execution_count": 14,
   "metadata": {},
   "outputs": [
    {
     "name": "stdout",
     "output_type": "stream",
     "text": [
      "[51.585610650913665, 53.23187984338291]\n"
     ]
    }
   ],
   "source": [
    "#latihan cari confidence interval rata-rata untuk age , penderita penyakit jantung\n",
    "#cari dulu yg sakit jantung (target = 1)\n",
    "#hitung datanya berapa\n",
    "#hitung rata-rata umur nya berapa\n",
    "#standard deviation\n",
    "#masukkin ke formula\n",
    "\n",
    "#\"biasanya yg menderita penyakit jantung ada di umur ...\"\n",
    "\n",
    "jumlah_data2 = df_sakit['age'].count() #yg sakit jantung (target = 1)\n",
    "best_estimate2 = df_sakit['age'].mean() #rata-rata umur nya berapa\n",
    "standard_deviation2 = df_sakit['age'].std() #standard deviation\n",
    "\n",
    "\n",
    "standard_error2 = standard_deviation2 / np.sqrt(jumlah_data2)\n",
    "\n",
    "margin_of_error2 = z * standard_error2\n",
    "\n",
    "print([best_estimate2 - margin_of_error2, best_estimate2 + margin_of_error2])\n"
   ]
  },
  {
   "cell_type": "markdown",
   "metadata": {},
   "source": [
    "rata2 tingkat kolestrol pasien penderita penyakit jantung ada di antara 236 - 246"
   ]
  },
  {
   "cell_type": "markdown",
   "metadata": {},
   "source": [
    "## sekarang kita masuk ke CI untuk proporsi\n",
    "\n",
    "bagaimana kalau kita mau membuat statement yang lebih ke arah \"xx% dari orang yang tingkat kolesterol nya di atas 200, adalah penderita penyakit jantung\"\n",
    "\n",
    "- yang kolesterol diatas 200 ada brp orang\n",
    "- dari yg kolestrol > 200, ada berapa menderita penyakit jantung\n",
    "- proporsi penderita penyakit jantung\n",
    "- confidence interval proporsi\n",
    "\n",
    "\"berapa banyak bagian yg masuk dalam kategori tertentu?\""
   ]
  },
  {
   "cell_type": "code",
   "execution_count": 23,
   "metadata": {},
   "outputs": [],
   "source": [
    "df_chol200 = df_heart[df_heart['chol'] > 200] #org yg kolestrol > 200\n",
    "\n",
    "df_chol200_sakit = df_chol200[df_chol200['target'] == 1] #kolestrol > 200 & sakit\n",
    "df_chol200_sehat = df_chol200[df_chol200['target'] == 0] #kolestrol > 200 & sehat\n",
    "\n",
    "n_chol200 = df_chol200.shape[0]\n",
    "n_sakit = df_chol200_sakit.shape[0]\n",
    "p_sakit = n_sakit / n_chol200\n",
    "\n"
   ]
  },
  {
   "cell_type": "code",
   "execution_count": 24,
   "metadata": {},
   "outputs": [
    {
     "data": {
      "text/plain": [
       "[0.4670316286168878, 0.534140704325668]"
      ]
     },
     "execution_count": 24,
     "metadata": {},
     "output_type": "execute_result"
    }
   ],
   "source": [
    "# confidence interval\n",
    "\n",
    "be = p_sakit\n",
    "\n",
    "z = 1.96\n",
    "se = np.sqrt(p_sakit * (1-p_sakit) / n_chol200)\n",
    "me = z * se\n",
    "\n",
    "[be - me, be + me]"
   ]
  },
  {
   "cell_type": "markdown",
   "metadata": {},
   "source": [
    "### latihan pendek\n",
    "coba cari confidence interval untuk proporsi.\n",
    "\n",
    "dari wanita yang umurnya diatas 60 (para lansia wanita), ada berapa banyak proporsi yang menderita penyakit jantung?\n",
    "\n",
    ".. - .. % lansia wanita menderita penyakit jantung.\n",
    "\n",
    "- ambil dulu data lansia wanita saja\n",
    "- hitung berapa dari data lansia wanita yang sakit\n",
    "- hitung proporsi sakit / semua lansia wanita\n",
    "- confidence interval proporsi\n",
    "\n",
    "8.50pm WIB kita bahas"
   ]
  },
  {
   "cell_type": "code",
   "execution_count": 33,
   "metadata": {},
   "outputs": [
    {
     "data": {
      "text/plain": [
       "(70, 14)"
      ]
     },
     "execution_count": 33,
     "metadata": {},
     "output_type": "execute_result"
    }
   ],
   "source": [
    "k_60 = (df_heart['age'] > 60)\n",
    "k_wanita = (df_heart['sex']  == 0)\n",
    "df_lansia = df_heart[k_60 & k_wanita] #lansia\n",
    "df_lansia_sakit = df_lansia[df_lansia['target'] == 1 ] # lansia sakit\n",
    "df_lansia_sakit.shape\n"
   ]
  },
  {
   "cell_type": "code",
   "execution_count": 34,
   "metadata": {},
   "outputs": [],
   "source": [
    "p_lansia_sakit = df_lansia_sakit.shape[0] / df_lansia.shape[0]\n",
    "n_lansia = df_lansia.shape[0]"
   ]
  },
  {
   "cell_type": "code",
   "execution_count": 35,
   "metadata": {},
   "outputs": [
    {
     "data": {
      "text/plain": [
       "[0.524668710506969, 0.7034014649316276]"
      ]
     },
     "execution_count": 35,
     "metadata": {},
     "output_type": "execute_result"
    }
   ],
   "source": [
    "be = p_lansia_sakit\n",
    "\n",
    "z = 1.96\n",
    "se = np.sqrt(p_lansia_sakit * (1-p_lansia_sakit) / n_lansia)\n",
    "me = z * se\n",
    "\n",
    "[be - me, be + me]"
   ]
  },
  {
   "cell_type": "markdown",
   "metadata": {},
   "source": [
    "# Hypothesis testing\n",
    "\n",
    "membuat statement\n",
    "\n",
    "contoh:\n",
    "- pasien sakit lutut kalau terapi 2X seminggu sembuhnya lebih lama (daripada terapi 3X seminggu ~8.2 minggu baru sembuh)\n",
    "- null hypothesis H0 (statement yang dianggap benar)\n",
    "- alternate hypothesis H1 (statement baru yang mau kita buat, yang bisa diterima kalau kita menunjukkan bahwa H0 tidak benar)\n",
    "- H1 sembuhnya lebih lama, sembuhnya > 8.2 minggu\n",
    "- H0 menyatakan kalau sembuhnya <= 8.2 minggu\n",
    "\n",
    "masalahnya kita tidak mau langsung membandingkan angka rata-rata kesembuhan pasien yang terapi 2X seminggu dengan angka rata-rata kesembuhan pasien yang terapi 3X seminggu. kita juga mau:\n",
    "- masukkan informasi jumlah data yang kita miliki. lebih banyak data dianggap lebih akurat, lebih sedikit dianggap tidak seakurat itu.\n",
    "- memilih tingkat keyakinan terhadap statement yang kita buat ini, karena tidak ada statement yagn 100% benar. biasanya kita set ke 95% yakin. atau tingkat error di 5%. `alpha` di 0.05. alpha adalah angka representative error rate yang kita gunakan untuk hypothesis testing.\n",
    "- selain membandingkan angka, kita bandingkan `p-value` ke alpha. cara cari p-value kita gunakan bantuan package python.\n",
    "\n",
    "kalau p_value > alpha, kita bilang FAIL to REJECT H0   \n",
    "kalau p_value <= alpha, kita bilang REJECT H0\n",
    "\n",
    "kita tidak pernah membuat pernyataan H1 itu benar, kita cuma bilang kalau ada perbedaan yang signifikan antara angka yang baru dengan asumsi lama H0 yang pernah dibuat. H1 mungkin benar. H0 kok beda jauh signifikan dari hasil hitung kita.\n",
    "\n"
   ]
  },
  {
   "cell_type": "code",
   "execution_count": 36,
   "metadata": {},
   "outputs": [],
   "source": [
    "import statsmodels.api as sm\n",
    "import matplotlib.pyplot as plt"
   ]
  },
  {
   "cell_type": "markdown",
   "metadata": {},
   "source": [
    "# Case Study\n",
    "- 52% ortu percaya X\n",
    "- saat ini semakin banyak ortu percaya X\n",
    "- H1 : p > 0.52 #skg lebih banyak yg percaya X, 52%\n",
    "- H0 : p <= 0.52 #kebalikan dari H1\n",
    "- sekarang dr data baru 1018, 56% ortu percaya X"
   ]
  },
  {
   "cell_type": "code",
   "execution_count": 38,
   "metadata": {},
   "outputs": [],
   "source": [
    "n = 1018\n",
    "phat = 0.56 #sekarang\n",
    "pnull = 0.52 #dulu\n",
    "#apakah bisa bilang skg lebih banyak ortu yg percaya X ?\n",
    "#apakah %4 ini di bilang cukup berbeda ?\n",
    "# "
   ]
  },
  {
   "cell_type": "markdown",
   "metadata": {},
   "source": [
    "apakah perbedaan 4% ini bisa dibilang cukup berbeda?\n",
    "\n",
    "kalau % yang percaya sekarang 52.1%, apakah bisa dibilang berbeda?\n",
    "\n",
    "kalau jumlah orang yang di survey sekarang 100rb orang, apakah perbedaan 0.1% ini signifikan?\n",
    "\n",
    "kalau dari data kita yang di survey adalah 1018 orang, apakah perbedaan 4% ini signifikan?"
   ]
  },
  {
   "cell_type": "code",
   "execution_count": 39,
   "metadata": {},
   "outputs": [
    {
     "data": {
      "text/plain": [
       "(2.571067795759113, 0.0050692738658605335)"
      ]
     },
     "execution_count": 39,
     "metadata": {},
     "output_type": "execute_result"
    }
   ],
   "source": [
    "# untuk perbandingan proporsi, dari 1 populasi\n",
    "\n",
    "sm.stats. proportions_ztest(phat*n, n , pnull, alternative='larger')"
   ]
  }
 ],
 "metadata": {
  "kernelspec": {
   "display_name": "base",
   "language": "python",
   "name": "python3"
  },
  "language_info": {
   "codemirror_mode": {
    "name": "ipython",
    "version": 3
   },
   "file_extension": ".py",
   "mimetype": "text/x-python",
   "name": "python",
   "nbconvert_exporter": "python",
   "pygments_lexer": "ipython3",
   "version": "3.12.4"
  }
 },
 "nbformat": 4,
 "nbformat_minor": 2
}
