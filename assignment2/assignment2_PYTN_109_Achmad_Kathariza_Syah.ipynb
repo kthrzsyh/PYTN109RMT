{
 "cells": [
  {
   "cell_type": "markdown",
   "metadata": {},
   "source": [
    "# Assignment 2 - Statistical Treatment fot Retail Datasets\n",
    "\n",
    "## Tentang Data\n",
    "This dataset is a record of every building or building unit (apartment, etc.) sold in the New York City property market over a 12-month period.\n",
    "\n",
    "## Isi Data\n",
    "1. BOROUGH : kode digit yang menyatakan wilayah dari lokasi properti\n",
    "\n",
    "Manhattan (1), Bronx (2), Brooklyn (3), Queens (4), and Staten Island (5)\n",
    "\n",
    "2. BLOCK and LOT: A Tax Block is a sub-division of the borough on which real properties are located. The Department of Finance uses a Borough-Block-Lot classification to label all real property in the City. “Whereas” addresses describe the street location of a property, the block and lot distinguishes one unit of real property from another, such as the different condominiums in a single building. Also, block and lots are not subject to name changes based on which side of the parcel the building puts its entrance on. A Tax Lot is a subdivision of a Tax Block and represents the property unique location. Because there are more than 11k unique blocks in the dataset, it doesn't make sense to define it as a categorical variable! Will leave it as numerical. The same story for LOT\n",
    "\n",
    "3. NEIGHBORHOOD: Department of Finance assessors determine the neighborhood name in the course of valuing properties. The common name of the neighborhood is generally the same as the name Finance designates. However, there may be slight differences in neighborhood boundary lines and some sub-neighborhoods may not be included. This variable should be categorical.\n",
    "\n",
    "4. BUILDING CLASS CATEGORY: This is a field that we are including so that users of the Rolling Sales Files can easily identify similar properties by broad usage (e.g. One Family Homes) without looking up individual Building Classes. Files are sorted by Borough, Neighborhood, Building Class Category, Block and Lot. This variable should be categorical.\n",
    "\n",
    "5. TAX CLASS AT PRESENT Every property in the city is assigned to one of four tax classes (Classes 1, 2, 3, and 4), based on the use of the property. This variable should be categorical.\n",
    "\n",
    "6. BUILDING CLASS AT PRESENT: The Building Classification is used to describe a property’s constructive use. The first position of the Building Class is a letter that is used to describe a general class of properties (for example “A” signifies one-family homes, “O” signifies office buildings. “R” signifies condominiums). The second position, a number, adds more specific information about the property’s use or construction style (using our previous examples “A0” is a Cape Cod style one family home, “O4” is a tower type office building and “R5” is a commercial condominium unit). The term Building Class used by the Department of Finance is interchangeable with the term Building Code used by the Department of Buildings. This variable should be categorical.\n",
    "\n",
    "7. ADDRESS: The street address of the property as listed on the Sales File. Coop sales include the apartment number in the address field. We are not going to extract any information from the address in this course!\n",
    "\n",
    "8. ZIP CODE: The property’s postal code. This variable should be categorical.\n",
    "\n",
    "9. RESIDENTIAL UNITS : The number of residential units at the listed property. This variable should be numeric\n",
    "\n",
    "10. COMMERCIAL UNITS :The number of commercial units at the listed property. This variable should be numeric\n",
    "\n",
    "11. TOTAL UNITS :The total number of units at the listed property. This variable should be numeric\n",
    "\n",
    "12. LAND SQUARE FEET : The land area of the property listed in square feet. This variable should be numeric\n",
    "\n",
    "13. GROSS SQUARE FEET : The total area of all the floors of a building as measured from the exterior surfaces of the outside walls of the building, including the land area and space within any building or structure on the property. This variable should be numeric\n",
    "\n",
    "14. YEAR BUILT : Year the structure on the property was built. This variable should be categorical\n",
    "\n",
    "15. TAX CLASS AT TIME OF SALE and BUILDING CLASS AT TIME OF SALE. Both of these variables should be categorical.\n",
    "\n",
    "16. SALE PRICE : This variable should be numeric.\n",
    "\n",
    "17. SALE DATE : This variable should be data time. However, we can save the \"year\" or \"month\" part as a new categorical variable.\n",
    "\n",
    "18. EASEMENT: An easement is a right, such as a right of way, which allows an entity to make limited use of another’s real property. For example: MTA railroad tracks that run across a portion of another property.\n"
   ]
  },
  {
   "cell_type": "markdown",
   "metadata": {},
   "source": [
    "### Question\n",
    "\"Apa ada perbedaan harga antara property yg di bangung tahun 1900 - 2000 dengan yang di bangun setelah 2001?\""
   ]
  },
  {
   "cell_type": "code",
   "execution_count": 22,
   "metadata": {},
   "outputs": [],
   "source": [
    "#import library\n",
    "import pandas as pd\n",
    "import numpy as np\n",
    "import matplotlib.pyplot as plt\n",
    "import seaborn as sns\n",
    "from scipy import stats\n",
    "from scipy.stats import ttest_ind\n",
    "\n",
    "# Atur jumlah kolom yang akan ditampilkan sepenuhnya\n",
    "pd.set_option('display.max_columns', None)\n",
    "\n",
    "# Atur lebar maksimal kolom yang ditampilkan\n",
    "pd.set_option('display.max_colwidth', None)\n",
    "\n",
    "# Jika tabel sangat panjang, atur juga jumlah baris yang ditampilkan\n",
    "pd.set_option('display.max_rows', None)"
   ]
  },
  {
   "cell_type": "code",
   "execution_count": 12,
   "metadata": {},
   "outputs": [],
   "source": [
    "# Load data \n",
    "file_path = 'dataset/nyc-rolling-sales.csv'\n",
    "df_nyc_sales = pd.read_csv(file_path)"
   ]
  },
  {
   "cell_type": "code",
   "execution_count": 13,
   "metadata": {},
   "outputs": [],
   "source": [
    "# Data Cleaning\n",
    "# ubah menjadi numerik & nilai yg tidak dapat dikonversi ke numerik (seperti teks, simbol, atau nilai tidak valid) akan diganti dengan NaN\n",
    "df_nyc_sales['SALE PRICE'] = pd.to_numeric(df_nyc_sales['SALE PRICE'], errors='coerce')"
   ]
  },
  {
   "cell_type": "code",
   "execution_count": 14,
   "metadata": {},
   "outputs": [
    {
     "data": {
      "text/plain": [
       "(69987, 22)"
      ]
     },
     "execution_count": 14,
     "metadata": {},
     "output_type": "execute_result"
    }
   ],
   "source": [
    "# buang value yg NaN\n",
    "df_nyc_sales_clean = df_nyc_sales.dropna(subset=['SALE PRICE'])\n",
    "df_nyc_sales_clean.shape"
   ]
  },
  {
   "cell_type": "code",
   "execution_count": 15,
   "metadata": {},
   "outputs": [
    {
     "data": {
      "text/plain": [
       "(59759, 22)"
      ]
     },
     "execution_count": 15,
     "metadata": {},
     "output_type": "execute_result"
    }
   ],
   "source": [
    "# buang semua nilai yg SALE PRICE nya = 0 karena Invalid\n",
    "df_nyc_sales_clean = df_nyc_sales_clean[df_nyc_sales_clean['SALE PRICE'] > 0]\n",
    "df_nyc_sales_clean.shape"
   ]
  },
  {
   "cell_type": "code",
   "execution_count": 16,
   "metadata": {},
   "outputs": [],
   "source": [
    "#buang kolom Unnamed: 0, Address, & Apartment Number\n",
    "tidak_perlu = ['Unnamed: 0', 'EASE-MENT','ADDRESS','APARTMENT NUMBER']\n",
    "df_nyc_sales_clean.drop(tidak_perlu,inplace=True, axis=1)"
   ]
  },
  {
   "cell_type": "code",
   "execution_count": 17,
   "metadata": {},
   "outputs": [
    {
     "data": {
      "text/plain": [
       "(59759, 18)"
      ]
     },
     "execution_count": 17,
     "metadata": {},
     "output_type": "execute_result"
    }
   ],
   "source": [
    "df_nyc_sales_clean.shape"
   ]
  },
  {
   "cell_type": "code",
   "execution_count": 18,
   "metadata": {},
   "outputs": [],
   "source": [
    "#buat grup , bangunan yg di bangun di th 1900 & 2000\n",
    "group_1900_2000 = df_nyc_sales_clean[(df_nyc_sales_clean['YEAR BUILT'] >= 1900) & \n",
    "                                     (df_nyc_sales_clean['YEAR BUILT'] <= 2000)]"
   ]
  },
  {
   "cell_type": "code",
   "execution_count": 19,
   "metadata": {},
   "outputs": [],
   "source": [
    "#buat grup , bangunan yg di bangun di th 2001\n",
    "group_2001_after = df_nyc_sales_clean[df_nyc_sales_clean['YEAR BUILT'] > 2001]"
   ]
  },
  {
   "cell_type": "code",
   "execution_count": 20,
   "metadata": {},
   "outputs": [
    {
     "name": "stderr",
     "output_type": "stream",
     "text": [
      "/var/folders/ck/vwn7vxb13n95y1snqqp3jg9h0000gn/T/ipykernel_81943/1522048254.py:2: SettingWithCopyWarning: \n",
      "A value is trying to be set on a copy of a slice from a DataFrame.\n",
      "Try using .loc[row_indexer,col_indexer] = value instead\n",
      "\n",
      "See the caveats in the documentation: https://pandas.pydata.org/pandas-docs/stable/user_guide/indexing.html#returning-a-view-versus-a-copy\n",
      "  group_1900_2000['Period'] = '1900-2000'\n",
      "/var/folders/ck/vwn7vxb13n95y1snqqp3jg9h0000gn/T/ipykernel_81943/1522048254.py:3: SettingWithCopyWarning: \n",
      "A value is trying to be set on a copy of a slice from a DataFrame.\n",
      "Try using .loc[row_indexer,col_indexer] = value instead\n",
      "\n",
      "See the caveats in the documentation: https://pandas.pydata.org/pandas-docs/stable/user_guide/indexing.html#returning-a-view-versus-a-copy\n",
      "  group_2001_after['Period'] = '2001 and after'\n"
     ]
    }
   ],
   "source": [
    "#beri label\n",
    "group_1900_2000['Period'] = '1900-2000'\n",
    "group_2001_after['Period'] = '2001 and after'"
   ]
  },
  {
   "cell_type": "code",
   "execution_count": 24,
   "metadata": {},
   "outputs": [
    {
     "data": {
      "text/html": [
       "<div>\n",
       "<style scoped>\n",
       "    .dataframe tbody tr th:only-of-type {\n",
       "        vertical-align: middle;\n",
       "    }\n",
       "\n",
       "    .dataframe tbody tr th {\n",
       "        vertical-align: top;\n",
       "    }\n",
       "\n",
       "    .dataframe thead th {\n",
       "        text-align: right;\n",
       "    }\n",
       "</style>\n",
       "<table border=\"1\" class=\"dataframe\">\n",
       "  <thead>\n",
       "    <tr style=\"text-align: right;\">\n",
       "      <th></th>\n",
       "      <th>SALE PRICE</th>\n",
       "      <th>Period</th>\n",
       "    </tr>\n",
       "  </thead>\n",
       "  <tbody>\n",
       "    <tr>\n",
       "      <th>0</th>\n",
       "      <td>6625000.0</td>\n",
       "      <td>1900-2000</td>\n",
       "    </tr>\n",
       "    <tr>\n",
       "      <th>3</th>\n",
       "      <td>3936272.0</td>\n",
       "      <td>1900-2000</td>\n",
       "    </tr>\n",
       "    <tr>\n",
       "      <th>4</th>\n",
       "      <td>8000000.0</td>\n",
       "      <td>1900-2000</td>\n",
       "    </tr>\n",
       "    <tr>\n",
       "      <th>6</th>\n",
       "      <td>3192840.0</td>\n",
       "      <td>1900-2000</td>\n",
       "    </tr>\n",
       "    <tr>\n",
       "      <th>9</th>\n",
       "      <td>16232000.0</td>\n",
       "      <td>1900-2000</td>\n",
       "    </tr>\n",
       "    <tr>\n",
       "      <th>12</th>\n",
       "      <td>1.0</td>\n",
       "      <td>1900-2000</td>\n",
       "    </tr>\n",
       "    <tr>\n",
       "      <th>13</th>\n",
       "      <td>499000.0</td>\n",
       "      <td>1900-2000</td>\n",
       "    </tr>\n",
       "    <tr>\n",
       "      <th>14</th>\n",
       "      <td>10.0</td>\n",
       "      <td>1900-2000</td>\n",
       "    </tr>\n",
       "    <tr>\n",
       "      <th>15</th>\n",
       "      <td>529500.0</td>\n",
       "      <td>1900-2000</td>\n",
       "    </tr>\n",
       "    <tr>\n",
       "      <th>16</th>\n",
       "      <td>423000.0</td>\n",
       "      <td>1900-2000</td>\n",
       "    </tr>\n",
       "    <tr>\n",
       "      <th>17</th>\n",
       "      <td>501000.0</td>\n",
       "      <td>1900-2000</td>\n",
       "    </tr>\n",
       "    <tr>\n",
       "      <th>18</th>\n",
       "      <td>450000.0</td>\n",
       "      <td>1900-2000</td>\n",
       "    </tr>\n",
       "    <tr>\n",
       "      <th>19</th>\n",
       "      <td>510000.0</td>\n",
       "      <td>1900-2000</td>\n",
       "    </tr>\n",
       "    <tr>\n",
       "      <th>21</th>\n",
       "      <td>350000.0</td>\n",
       "      <td>1900-2000</td>\n",
       "    </tr>\n",
       "    <tr>\n",
       "      <th>22</th>\n",
       "      <td>11900000.0</td>\n",
       "      <td>1900-2000</td>\n",
       "    </tr>\n",
       "    <tr>\n",
       "      <th>23</th>\n",
       "      <td>11900000.0</td>\n",
       "      <td>1900-2000</td>\n",
       "    </tr>\n",
       "    <tr>\n",
       "      <th>24</th>\n",
       "      <td>350000.0</td>\n",
       "      <td>1900-2000</td>\n",
       "    </tr>\n",
       "    <tr>\n",
       "      <th>25</th>\n",
       "      <td>404000.0</td>\n",
       "      <td>1900-2000</td>\n",
       "    </tr>\n",
       "    <tr>\n",
       "      <th>26</th>\n",
       "      <td>535000.0</td>\n",
       "      <td>1900-2000</td>\n",
       "    </tr>\n",
       "    <tr>\n",
       "      <th>27</th>\n",
       "      <td>1400000.0</td>\n",
       "      <td>1900-2000</td>\n",
       "    </tr>\n",
       "    <tr>\n",
       "      <th>28</th>\n",
       "      <td>866000.0</td>\n",
       "      <td>1900-2000</td>\n",
       "    </tr>\n",
       "    <tr>\n",
       "      <th>29</th>\n",
       "      <td>355000.0</td>\n",
       "      <td>1900-2000</td>\n",
       "    </tr>\n",
       "    <tr>\n",
       "      <th>31</th>\n",
       "      <td>805000.0</td>\n",
       "      <td>1900-2000</td>\n",
       "    </tr>\n",
       "    <tr>\n",
       "      <th>32</th>\n",
       "      <td>475000.0</td>\n",
       "      <td>1900-2000</td>\n",
       "    </tr>\n",
       "    <tr>\n",
       "      <th>33</th>\n",
       "      <td>450000.0</td>\n",
       "      <td>1900-2000</td>\n",
       "    </tr>\n",
       "    <tr>\n",
       "      <th>34</th>\n",
       "      <td>450000.0</td>\n",
       "      <td>1900-2000</td>\n",
       "    </tr>\n",
       "    <tr>\n",
       "      <th>35</th>\n",
       "      <td>810000.0</td>\n",
       "      <td>1900-2000</td>\n",
       "    </tr>\n",
       "    <tr>\n",
       "      <th>37</th>\n",
       "      <td>300000.0</td>\n",
       "      <td>1900-2000</td>\n",
       "    </tr>\n",
       "    <tr>\n",
       "      <th>38</th>\n",
       "      <td>300000.0</td>\n",
       "      <td>1900-2000</td>\n",
       "    </tr>\n",
       "    <tr>\n",
       "      <th>39</th>\n",
       "      <td>579000.0</td>\n",
       "      <td>1900-2000</td>\n",
       "    </tr>\n",
       "  </tbody>\n",
       "</table>\n",
       "</div>"
      ],
      "text/plain": [
       "    SALE PRICE     Period\n",
       "0    6625000.0  1900-2000\n",
       "3    3936272.0  1900-2000\n",
       "4    8000000.0  1900-2000\n",
       "6    3192840.0  1900-2000\n",
       "9   16232000.0  1900-2000\n",
       "12         1.0  1900-2000\n",
       "13    499000.0  1900-2000\n",
       "14        10.0  1900-2000\n",
       "15    529500.0  1900-2000\n",
       "16    423000.0  1900-2000\n",
       "17    501000.0  1900-2000\n",
       "18    450000.0  1900-2000\n",
       "19    510000.0  1900-2000\n",
       "21    350000.0  1900-2000\n",
       "22  11900000.0  1900-2000\n",
       "23  11900000.0  1900-2000\n",
       "24    350000.0  1900-2000\n",
       "25    404000.0  1900-2000\n",
       "26    535000.0  1900-2000\n",
       "27   1400000.0  1900-2000\n",
       "28    866000.0  1900-2000\n",
       "29    355000.0  1900-2000\n",
       "31    805000.0  1900-2000\n",
       "32    475000.0  1900-2000\n",
       "33    450000.0  1900-2000\n",
       "34    450000.0  1900-2000\n",
       "35    810000.0  1900-2000\n",
       "37    300000.0  1900-2000\n",
       "38    300000.0  1900-2000\n",
       "39    579000.0  1900-2000"
      ]
     },
     "execution_count": 24,
     "metadata": {},
     "output_type": "execute_result"
    }
   ],
   "source": [
    "# kombinasikan dalam 1 DF untuk dilakukan visualisasi\n",
    "combined_df = pd.concat([group_1900_2000[['SALE PRICE', 'Period']], group_2001_after[['SALE PRICE', 'Period']]])\n",
    "combined_df.head(30)"
   ]
  },
  {
   "cell_type": "code",
   "execution_count": 25,
   "metadata": {},
   "outputs": [
    {
     "data": {
      "image/png": "[encoded data removed]",
      "text/plain": [
       "<Figure size 1000x600 with 1 Axes>"
      ]
     },
     "metadata": {},
     "output_type": "display_data"
    }
   ],
   "source": [
    "# Buat perbandingan 2 grup menggunakan Box Plot\n",
    "plt.figure(figsize=(10, 6))\n",
    "sns.boxplot(x='Period', y='SALE PRICE', data=combined_df)\n",
    "plt.title('Perbandingan SALE PRICE : Bangunan 1900-2000 vs After 2001')\n",
    "plt.yscale('log')  # Using log scale to handle wide range of prices\n",
    "plt.ylabel('Sale Price (log scale)')\n",
    "plt.show()"
   ]
  },
  {
   "cell_type": "markdown",
   "metadata": {},
   "source": [
    "1. Kedua kelompok memiliki rentang harga yang serupa, namun properti yang dibangun antara tahun 1900-2000 cenderung memiliki lebih banyak outliers dengan harga yang jauh lebih tinggi dibanding \"2001 and after\"\n",
    "\n",
    "2. Median harga antara kedua kelompok terlihat mirip, namun distribusi harga properti antara tahun 1900-2000 tampak sedikit lebih lebar"
   ]
  },
  {
   "cell_type": "code",
   "execution_count": 30,
   "metadata": {},
   "outputs": [
    {
     "data": {
      "image/png": "[encoded data removed]",
      "text/plain": [
       "<Figure size 1000x600 with 1 Axes>"
      ]
     },
     "metadata": {},
     "output_type": "display_data"
    }
   ],
   "source": [
    "# Histogram persebaran data SALE PRICE\n",
    "plt.figure(figsize=(10, 6))\n",
    "sns.histplot(data=combined_df, x='SALE PRICE', hue='Period', element=\"step\", stat=\"density\", common_norm=False)\n",
    "plt.title('Distribusi SALE PRICE: Bangunan th 1900-2000 vs 2001 and After')\n",
    "plt.xscale('log')  # ubah X menjadi log, supaya outlier tidak dominasi plot nya\n",
    "plt.xlabel('Sale Price (log scale)')\n",
    "plt.ylabel('Density')\n",
    "plt.show()"
   ]
  },
  {
   "cell_type": "markdown",
   "metadata": {},
   "source": [
    "#### KESIMPULAN GRAFIK\n",
    "1. Properti yang dibangun antara tahun 1900-2000 memiliki variasi harga yang lebih besar, termasuk properti dengan harga yang sangat tinggi, yang terlihat dari ekor distribusi yang panjang\n",
    "\n",
    "2. Properti yang dibangun setelah 2001 cenderung memiliki distribusi harga yang lebih terpusat di kisaran harga menengah, dan lebih sedikit properti dengan harga yang sangat tinggi"
   ]
  },
  {
   "cell_type": "code",
   "execution_count": 31,
   "metadata": {},
   "outputs": [],
   "source": [
    "#pakai t_test untuk mencari perbedaan signifikan dalam 2 grup\n",
    "sale_price_1900_2000 = group_1900_2000['SALE PRICE']\n",
    "sale_price_2001_after = group_2001_after['SALE PRICE']"
   ]
  },
  {
   "cell_type": "code",
   "execution_count": 42,
   "metadata": {},
   "outputs": [
    {
     "name": "stdout",
     "output_type": "stream",
     "text": [
      "T-statistic: -6.788042213163689, P-value: 1.1605972746394967e-11\n"
     ]
    }
   ],
   "source": [
    "# t-test\n",
    "t_stat, p_value = ttest_ind(sale_price_1900_2000, sale_price_2001_after, equal_var=False)\n",
    "\n",
    "print(f\"T-statistic: {t_stat}, P-value: {p_value}\")\n"
   ]
  },
  {
   "cell_type": "markdown",
   "metadata": {},
   "source": [
    "### Pengertian dari t-test di atas\n",
    "- Nilai t-test : -6.788 menunjukkan bahwa ada perbedaan yang cukup besar antara rata-rata harga properti yang dibangun antara 1900-2000 dan setelah 2001. Nilai negatif menunjukkan bahwa rata-rata harga dari kelompok pertama (1900-2000) lebih rendah daripada kelompok kedua (setelah 2001)\n",
    "\n",
    "- P-value ini sangat kecil (lebih kecil dari 0.05), yang berarti bahwa ada perbedaan signifikan secara statistik antara rata-rata harga properti kedua kelompok.\n",
    "\n",
    "- P-value yang kecil menunjukkan bahwa kemungkinan besar perbedaan yang diamati tidak terjadi secara kebetulan, melainkan benar-benar ada perbedaan antara kedua kelompok."
   ]
  },
  {
   "cell_type": "code",
   "execution_count": 33,
   "metadata": {},
   "outputs": [
    {
     "name": "stdout",
     "output_type": "stream",
     "text": [
      "Properties built between 1900-2000: Mean = 1372101.9479562894, 95% CI = [1246921.73321009, 1497282.1627024887]\n",
      "Properties built after 2001: Mean = 2000777.3510587676, 95% CI = [1869300.8226224298, 2132253.8794951057]\n"
     ]
    }
   ],
   "source": [
    "# function untuk hitung confidence interval\n",
    "def confidence_interval(data, confidence=0.95):\n",
    "    n = len(data)\n",
    "    mean = np.mean(data)\n",
    "    std_err = stats.sem(data)  # Standard error\n",
    "    t_critical = stats.t.ppf((1 + confidence) / 2, df=n-1)  # t critical value\n",
    "    margin_of_error = t_critical * std_err\n",
    "    return mean, mean - margin_of_error, mean + margin_of_error\n",
    "\n",
    "# CI untuk bangunan 1900 - 2000\n",
    "mean_1900_2000, ci_lower_1900_2000, ci_upper_1900_2000 = confidence_interval(sale_price_1900_2000)\n",
    "\n",
    "# # CI untuk bangunan > 2001\n",
    "mean_2001_after, ci_lower_2001_after, ci_upper_2001_after = confidence_interval(sale_price_2001_after)\n",
    "\n",
    "print(f\"Properties built between 1900-2000: Mean = {mean_1900_2000}, 95% CI = [{ci_lower_1900_2000}, {ci_upper_1900_2000}]\")\n",
    "print(f\"Properties built after 2001: Mean = {mean_2001_after}, 95% CI = [{ci_lower_2001_after}, {ci_upper_2001_after}]\")\n"
   ]
  },
  {
   "cell_type": "markdown",
   "metadata": {},
   "source": [
    "### Properti yang dibangun antara 1900-2000:\n",
    "\n",
    "- Rata-rata harga adalah sekitar 1,183,630.84.\n",
    "- Dengan tingkat kepercayaan 95%, rata-rata harga sebenarnya diperkirakan berada dalam rentang 1,075,570.62 hingga 1,291,691.05.\n",
    "\n",
    "### Properti yang dibangun setelah 2001:\n",
    "\n",
    "- Rata-rata harga adalah sekitar 1,730,657.99.\n",
    "- Dengan tingkat kepercayaan 95%, rata-rata harga sebenarnya diperkirakan berada dalam rentang 1,616,125.00 hingga 1,845,191.00.\n",
    "\n",
    "### KESIMPULAN\n",
    "\n",
    "- Properti yang dibangun setelah tahun 2001 memiliki rata-rata harga yang lebih tinggi dibandingkan dengan properti yang dibangun antara 1900-2000\n",
    "\n",
    "- Karena interval kepercayaan kedua kelompok tidak tumpang tindih, ini memperkuat temuan bahwa ada perbedaan yang signifikan antara harga kedua kelompok properti."
   ]
  },
  {
   "cell_type": "code",
   "execution_count": 34,
   "metadata": {},
   "outputs": [
    {
     "name": "stdout",
     "output_type": "stream",
     "text": [
      "terdapat perbedaan harga jual yang signifikan secara statistik antara properti yang dibangun antara tahun 1900-2000 dan yang dibangun setelah tahun 2001.\n"
     ]
    }
   ],
   "source": [
    "# Tarik Kesimpulan\n",
    "if p_value < 0.05:\n",
    "    print(\"terdapat perbedaan harga jual yang signifikan secara statistik antara properti yang dibangun antara tahun 1900-2000 dan yang dibangun setelah tahun 2001.\")\n",
    "else:\n",
    "    print(\"Tidak ada perbedaan harga jual yang signifikan secara statistik antara kedua kelompok.\")"
   ]
  }
 ],
 "metadata": {
  "kernelspec": {
   "display_name": "Python 3",
   "language": "python",
   "name": "python3"
  },
  "language_info": {
   "codemirror_mode": {
    "name": "ipython",
    "version": 3
   },
   "file_extension": ".py",
   "mimetype": "text/x-python",
   "name": "python",
   "nbconvert_exporter": "python",
   "pygments_lexer": "ipython3",
   "version": "3.10.5"
  }
 },
 "nbformat": 4,
 "nbformat_minor": 2
}
