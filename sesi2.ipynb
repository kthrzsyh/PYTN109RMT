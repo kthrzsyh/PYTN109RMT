{
 "cells": [
  {
   "cell_type": "markdown",
   "metadata": {},
   "source": [
    "## IF ELSE Condition\n",
    "\n",
    "if .... maka\n",
    "else .... maka"
   ]
  },
  {
   "cell_type": "code",
   "execution_count": 1,
   "metadata": {},
   "outputs": [
    {
     "name": "stdout",
     "output_type": "stream",
     "text": [
      "Andi harus ikut kelas anak-anak\n"
     ]
    }
   ],
   "source": [
    "# misal\n",
    "umur_andi = 16\n",
    "\n",
    "# jika 17 tahun keatas, kelas dewasa\n",
    "# jika < maka ikut anak2\n",
    "\n",
    "if umur_andi >= 17 :\n",
    "    print(\"Andi boleh ikut kelas dewasa\")\n",
    "else:\n",
    "    print(\"Andi harus ikut kelas anak-anak\")"
   ]
  },
  {
   "cell_type": "code",
   "execution_count": 3,
   "metadata": {},
   "outputs": [
    {
     "name": "stdout",
     "output_type": "stream",
     "text": [
      "besar\n"
     ]
    }
   ],
   "source": [
    "angka = 1000\n",
    "\n",
    "if angka > 100:\n",
    "    print(\"besar\")\n",
    "else :\n",
    "    print(\"kecil\")"
   ]
  },
  {
   "cell_type": "code",
   "execution_count": 5,
   "metadata": {},
   "outputs": [
    {
     "name": "stdout",
     "output_type": "stream",
     "text": [
      "Andhika boleh ikut kelas anak2\n",
      "kebetulan sekali nama gurunya juga Andhika!\n"
     ]
    }
   ],
   "source": [
    "murid_andi = {\n",
    "    \"nama\" : \"Andhika\",\n",
    "    \"umur\" : 16,\n",
    "    \"hobi\" : [\"makan\", \"baca\", \"main bola\"]\n",
    "}\n",
    "\n",
    "if murid_andi[\"umur\"] < 17 :\n",
    "    print(murid_andi[\"nama\"], \"boleh ikut kelas anak2\")\n",
    "    \n",
    "if murid_andi[\"nama\"] == \"Andhika\" :\n",
    "    print(\"kebetulan sekali nama gurunya juga Andhika!\")"
   ]
  },
  {
   "cell_type": "code",
   "execution_count": 6,
   "metadata": {},
   "outputs": [
    {
     "name": "stdout",
     "output_type": "stream",
     "text": [
      "ikut kelas dewasa\n"
     ]
    }
   ],
   "source": [
    "# misal\n",
    "umur_andi = 26\n",
    "\n",
    "# jika 17 tahun keatas, kelas dewasa\n",
    "# jika < maka ikut anak2\n",
    "\n",
    "if umur_andi < 17 :\n",
    "    print(\"ikut kelas anak-anak\")\n",
    "else:\n",
    "    print(\"ikut kelas dewasa\")"
   ]
  },
  {
   "cell_type": "code",
   "execution_count": 10,
   "metadata": {},
   "outputs": [
    {
     "name": "stdout",
     "output_type": "stream",
     "text": [
      "anak-anak\n"
     ]
    }
   ],
   "source": [
    "umur = 10\n",
    "\n",
    "if umur < 17 :\n",
    "    print(\"anak-anak\")\n",
    "elif umur <= 24 :\n",
    "    print(\"remaja\")\n",
    "else:\n",
    "    print(\"dewasa\")"
   ]
  },
  {
   "cell_type": "markdown",
   "metadata": {},
   "source": [
    "## Looping\n",
    "# while\n",
    "while 'kondisi':\n",
    "\n",
    "        lakukan ..."
   ]
  },
  {
   "cell_type": "code",
   "execution_count": 13,
   "metadata": {},
   "outputs": [
    {
     "name": "stdout",
     "output_type": "stream",
     "text": [
      "70\n",
      "71\n",
      "72\n",
      "73\n",
      "74\n",
      "75\n",
      "76\n",
      "77\n",
      "78\n",
      "79\n",
      "80\n"
     ]
    }
   ],
   "source": [
    "angka = 70\n",
    "\n",
    "while angka <= 80 :\n",
    "    print(angka)\n",
    "    angka = angka + 1"
   ]
  },
  {
   "cell_type": "code",
   "execution_count": 14,
   "metadata": {},
   "outputs": [
    {
     "name": "stdout",
     "output_type": "stream",
     "text": [
      "h\n",
      "a\n",
      "c\n",
      "k\n",
      "t\n",
      "i\n",
      "v\n",
      "8\n"
     ]
    }
   ],
   "source": [
    "for huruf in \"hacktiv8\" :\n",
    "    print(huruf)"
   ]
  }
 ],
 "metadata": {
  "kernelspec": {
   "display_name": "base",
   "language": "python",
   "name": "python3"
  },
  "language_info": {
   "codemirror_mode": {
    "name": "ipython",
    "version": 3
   },
   "file_extension": ".py",
   "mimetype": "text/x-python",
   "name": "python",
   "nbconvert_exporter": "python",
   "pygments_lexer": "ipython3",
   "version": "3.12.4"
  }
 },
 "nbformat": 4,
 "nbformat_minor": 2
}
