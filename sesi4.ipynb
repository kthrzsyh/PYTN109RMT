{
 "cells": [
  {
   "cell_type": "markdown",
   "metadata": {},
   "source": [
    "# Numpy"
   ]
  },
  {
   "cell_type": "markdown",
   "metadata": {},
   "source": [
    "numpy gunanya untuk handle data tipe numerik\n",
    "Numpy array adal data srtuktur yg memudahkan operasi seputar numerik, formula matematik, dll\n",
    "Numpy array dapat diakses dengan menggunakan index, seperti array biasa"
   ]
  },
  {
   "cell_type": "code",
   "execution_count": 3,
   "metadata": {},
   "outputs": [],
   "source": [
    "import numpy as np"
   ]
  },
  {
   "cell_type": "code",
   "execution_count": 3,
   "metadata": {},
   "outputs": [
    {
     "name": "stdout",
     "output_type": "stream",
     "text": [
      "[70 80 90] <class 'numpy.ndarray'>\n"
     ]
    }
   ],
   "source": [
    "arr = np.array([70,80,90])\n",
    "print(arr, type(arr)) "
   ]
  },
  {
   "cell_type": "markdown",
   "metadata": {},
   "source": [
    "nd - n dimensional\n",
    "\n",
    "n dimemsional artinya, numpy array bisa memiliki lebih dari 1 dimensi. bisa ada array dalam array(2 dimensi), dst.\n",
    "untuk check pakai .shape"
   ]
  },
  {
   "cell_type": "code",
   "execution_count": 4,
   "metadata": {},
   "outputs": [
    {
     "data": {
      "text/plain": [
       "(3,)"
      ]
     },
     "execution_count": 4,
     "metadata": {},
     "output_type": "execute_result"
    }
   ],
   "source": [
    "arr.shape"
   ]
  },
  {
   "cell_type": "markdown",
   "metadata": {},
   "source": [
    "arr = 1 dimensi, isinya 3 item"
   ]
  },
  {
   "cell_type": "code",
   "execution_count": 5,
   "metadata": {},
   "outputs": [
    {
     "name": "stdout",
     "output_type": "stream",
     "text": [
      "[[45 55 65]\n",
      " [25 89 68]]\n"
     ]
    }
   ],
   "source": [
    "arr_nilai = np.array([\n",
    "    [45, 55, 65],\n",
    "    [25,89, 68]\n",
    "])\n",
    "\n",
    "print(arr_nilai)"
   ]
  },
  {
   "cell_type": "code",
   "execution_count": 6,
   "metadata": {},
   "outputs": [
    {
     "name": "stdout",
     "output_type": "stream",
     "text": [
      "(2, 3)\n"
     ]
    }
   ],
   "source": [
    "print(arr_nilai.shape)"
   ]
  },
  {
   "cell_type": "markdown",
   "metadata": {},
   "source": [
    "arr_nilai punya 2 dimensi, 2 item pada dimensi I & 3 item pada dimensi II\n",
    "\n",
    "jumlah item di setiap dimensi harus sama, jika tidak seimbang tidak bisa di baca"
   ]
  },
  {
   "cell_type": "code",
   "execution_count": 9,
   "metadata": {},
   "outputs": [
    {
     "name": "stdout",
     "output_type": "stream",
     "text": [
      "[ 5  6  7  8  9 10]\n",
      "[[11 12 13]\n",
      " [14 15 16]\n",
      " [17 18 19]]\n"
     ]
    }
   ],
   "source": [
    "#latihan pendek\n",
    "#buat numpy array , isi angka urut 5 sampai 10\n",
    "#buat lagi numpy array 2 dimensi, isi dengan 3 baris angka, masing-masing 3 kolom. 11 - 19\n",
    "\n",
    "arr1 = np.array([\n",
    "    5, 6, 7, 8, 9, 10\n",
    "])\n",
    "\n",
    "arr2 = np.array([[11, 12, 13],\n",
    "                  [14, 15, 16],\n",
    "                  [17, 18, 19]])\n",
    "\n",
    "print(arr1)\n",
    "print(arr2)"
   ]
  },
  {
   "cell_type": "code",
   "execution_count": 11,
   "metadata": {},
   "outputs": [
    {
     "name": "stdout",
     "output_type": "stream",
     "text": [
      "(6,)\n",
      "(3, 3)\n"
     ]
    }
   ],
   "source": [
    "print(arr1.shape)\n",
    "print(arr2.shape)"
   ]
  },
  {
   "cell_type": "markdown",
   "metadata": {},
   "source": [
    "selain np.array() :\n",
    "1. .zeros() : otomatis isi 0\n",
    "2. .ones() : otomatis isi 1\n",
    "3. .arrange() : otomatis angka urut\n",
    "\n",
    ".random.default_rng() : isi angka random"
   ]
  },
  {
   "cell_type": "code",
   "execution_count": 4,
   "metadata": {},
   "outputs": [
    {
     "data": {
      "text/plain": [
       "array([0., 0., 0., 0., 0., 0., 0., 0., 0., 0.])"
      ]
     },
     "execution_count": 4,
     "metadata": {},
     "output_type": "execute_result"
    }
   ],
   "source": [
    "np.zeros(10)"
   ]
  },
  {
   "cell_type": "code",
   "execution_count": 5,
   "metadata": {},
   "outputs": [
    {
     "data": {
      "text/plain": [
       "array([[0., 0., 0.],\n",
       "       [0., 0., 0.]])"
      ]
     },
     "execution_count": 5,
     "metadata": {},
     "output_type": "execute_result"
    }
   ],
   "source": [
    "np.zeros((2,3))"
   ]
  },
  {
   "cell_type": "code",
   "execution_count": 11,
   "metadata": {},
   "outputs": [
    {
     "data": {
      "text/plain": [
       "array([2, 3, 4, 5, 6, 7, 8, 9])"
      ]
     },
     "execution_count": 11,
     "metadata": {},
     "output_type": "execute_result"
    }
   ],
   "source": [
    "arr3 = np.array([\n",
    "    1,2,3,4,5\n",
    "])\n",
    "\n",
    "np.arange(2,10)"
   ]
  },
  {
   "cell_type": "code",
   "execution_count": 12,
   "metadata": {},
   "outputs": [
    {
     "data": {
      "text/plain": [
       "array([0.26676295, 0.60120045, 0.32878209, 0.61725559, 0.30050351,\n",
       "       0.46266321, 0.59660737, 0.49290138, 0.90417942, 0.76515557])"
      ]
     },
     "execution_count": 12,
     "metadata": {},
     "output_type": "execute_result"
    }
   ],
   "source": [
    "rng = np.random.default_rng()\n",
    "\n",
    "rng.random(10)"
   ]
  },
  {
   "cell_type": "code",
   "execution_count": 15,
   "metadata": {},
   "outputs": [
    {
     "name": "stdout",
     "output_type": "stream",
     "text": [
      "[72 64 74 86 70 76 62 84 79 66]\n"
     ]
    }
   ],
   "source": [
    "#buat dummy data 10 murid nilai antara 50 - 90\n",
    "rng = np.random.default_rng()\n",
    "\n",
    "nilai = rng.random(10) * 40 + 50\n",
    "nilai = nilai.astype(int)\n",
    "\n",
    "print(nilai)\n"
   ]
  },
  {
   "cell_type": "code",
   "execution_count": 28,
   "metadata": {},
   "outputs": [
    {
     "name": "stdout",
     "output_type": "stream",
     "text": [
      "3.72\n",
      "7.31\n"
     ]
    }
   ],
   "source": [
    "#latihan pendek\n",
    "#buatlah 100 angka random hasil lempar dadu. BIsa bernilai 1,2,3,4,5,6\n",
    "#hitung hasil rata-rata lempar dadu\n",
    "#buatlah dadu ke-2 pada var berbeda , jumlah 100\n",
    "#jumlahkan kedua hasil seperti hasil 2 dadu sekaligus\n",
    "#hitung rata2 lempar 2 dadu\n",
    "\n",
    "dadu1 = rng.random(100) * 6\n",
    "dadu1 = dadu1.astype(int) + 1\n",
    "rata1 = np.mean(dadu1)\n",
    "\n",
    "dadu2 = rng.random(100) * 6\n",
    "dadu2 = dadu2.astype(int) + 1\n",
    "tambah = dadu1 + dadu2\n",
    "rata2 = np.mean(tambah)\n",
    "\n",
    "print(rata1)\n",
    "print(rata2)"
   ]
  },
  {
   "cell_type": "markdown",
   "metadata": {},
   "source": [
    "CRUD \n",
    "- Create\n",
    "- Read\n",
    "- Update\n",
    "- Delete"
   ]
  },
  {
   "cell_type": "code",
   "execution_count": 32,
   "metadata": {},
   "outputs": [
    {
     "name": "stdout",
     "output_type": "stream",
     "text": [
      "[1 4 1 3 6]\n"
     ]
    }
   ],
   "source": [
    "dadu3 = (rng.random(5) * 6 + 1).astype(int)\n",
    "print(dadu3)"
   ]
  },
  {
   "cell_type": "code",
   "execution_count": 33,
   "metadata": {},
   "outputs": [
    {
     "name": "stdout",
     "output_type": "stream",
     "text": [
      "[1 4 1 3 6 3]\n"
     ]
    }
   ],
   "source": [
    "dadu3 = np.append(dadu3, [3])\n",
    "print(dadu3)"
   ]
  },
  {
   "cell_type": "code",
   "execution_count": 34,
   "metadata": {},
   "outputs": [
    {
     "name": "stdout",
     "output_type": "stream",
     "text": [
      "[[ 0  1  2  3  4  5  6  7]\n",
      " [ 8  9 10 11 12 13 14 15]\n",
      " [16 17 18 19 20 21 22 23]]\n"
     ]
    }
   ],
   "source": [
    "arr = np.arange(24).reshape((3,8))\n",
    "print(arr)"
   ]
  },
  {
   "cell_type": "code",
   "execution_count": 35,
   "metadata": {},
   "outputs": [
    {
     "name": "stdout",
     "output_type": "stream",
     "text": [
      "[[ 0  1  2  3  4  5]\n",
      " [ 6  7  8  9 10 11]\n",
      " [12 13 14 15 16 17]\n",
      " [18 19 20 21 22 23]]\n"
     ]
    }
   ],
   "source": [
    "arr = np.arange(24).reshape((4, 6))\n",
    "print(arr)"
   ]
  },
  {
   "cell_type": "code",
   "execution_count": 36,
   "metadata": {},
   "outputs": [
    {
     "name": "stdout",
     "output_type": "stream",
     "text": [
      "[[ 0  1  2  3]\n",
      " [ 4  5  6  7]\n",
      " [ 8  9 10 11]\n",
      " [12 13 14 15]\n",
      " [16 17 18 19]\n",
      " [20 21 22 23]]\n"
     ]
    }
   ],
   "source": [
    "arr = np.arange(24).reshape((6,4))\n",
    "print(arr)"
   ]
  },
  {
   "cell_type": "code",
   "execution_count": 37,
   "metadata": {},
   "outputs": [
    {
     "name": "stdout",
     "output_type": "stream",
     "text": [
      "[[ 0  1  2  3]\n",
      " [ 4  5  6  7]\n",
      " [ 8  9 10 11]\n",
      " [12 13 14 15]\n",
      " [16 17 18 19]\n",
      " [20 21 22 23]]\n"
     ]
    }
   ],
   "source": [
    "#Indexing & slicing\n",
    "print(arr)"
   ]
  },
  {
   "cell_type": "code",
   "execution_count": 38,
   "metadata": {},
   "outputs": [
    {
     "data": {
      "text/plain": [
       "5"
      ]
     },
     "execution_count": 38,
     "metadata": {},
     "output_type": "execute_result"
    }
   ],
   "source": [
    "arr[1,1]"
   ]
  },
  {
   "cell_type": "code",
   "execution_count": 39,
   "metadata": {},
   "outputs": [
    {
     "data": {
      "text/plain": [
       "6"
      ]
     },
     "execution_count": 39,
     "metadata": {},
     "output_type": "execute_result"
    }
   ],
   "source": [
    "arr[1,2]"
   ]
  },
  {
   "cell_type": "code",
   "execution_count": 40,
   "metadata": {},
   "outputs": [
    {
     "data": {
      "text/plain": [
       "array([1, 2, 3])"
      ]
     },
     "execution_count": 40,
     "metadata": {},
     "output_type": "execute_result"
    }
   ],
   "source": [
    "arr[0, 1:4]"
   ]
  },
  {
   "cell_type": "code",
   "execution_count": 41,
   "metadata": {},
   "outputs": [
    {
     "data": {
      "text/plain": [
       "array([ 1,  5,  9, 13, 17, 21])"
      ]
     },
     "execution_count": 41,
     "metadata": {},
     "output_type": "execute_result"
    }
   ],
   "source": [
    "# : artinya semua baris\n",
    "arr[:, 1]"
   ]
  },
  {
   "cell_type": "code",
   "execution_count": 42,
   "metadata": {},
   "outputs": [],
   "source": [
    "#copy & view\n",
    "arr = np.arange(24).reshape((3,8))\n",
    "arr = arr.reshape((3,8))"
   ]
  },
  {
   "cell_type": "code",
   "execution_count": 43,
   "metadata": {},
   "outputs": [
    {
     "name": "stdout",
     "output_type": "stream",
     "text": [
      "[[ 0  1  2  3  4  5  6  7]\n",
      " [ 8  9 10 11 12 13 14 15]\n",
      " [16 17 18 19 20 21 22 23]]\n"
     ]
    }
   ],
   "source": [
    "print(arr)"
   ]
  },
  {
   "cell_type": "code",
   "execution_count": 46,
   "metadata": {},
   "outputs": [
    {
     "name": "stdout",
     "output_type": "stream",
     "text": [
      "3\n",
      "11\n",
      "19\n"
     ]
    }
   ],
   "source": [
    "#ambil angka 3, 11, 19\n",
    "print(arr[0,3])\n",
    "print(arr[1,3])\n",
    "print(arr[2,3])"
   ]
  },
  {
   "cell_type": "code",
   "execution_count": 48,
   "metadata": {},
   "outputs": [
    {
     "name": "stdout",
     "output_type": "stream",
     "text": [
      "15\n",
      "16\n"
     ]
    }
   ],
   "source": [
    "#ambil angka 15, 16\n",
    "print(arr[1, -1])\n",
    "print(arr[2,0])"
   ]
  },
  {
   "cell_type": "code",
   "execution_count": 49,
   "metadata": {},
   "outputs": [
    {
     "name": "stdout",
     "output_type": "stream",
     "text": [
      "[[11 12]\n",
      " [19 20]]\n"
     ]
    }
   ],
   "source": [
    "#latihan slicing 11,12,19,20 satu kali slicing\n",
    "# [1,3][1,4]\n",
    "# [2,3][2,4]\n",
    "\n",
    "print(arr[1:3, 3:5])"
   ]
  },
  {
   "cell_type": "code",
   "execution_count": 50,
   "metadata": {},
   "outputs": [
    {
     "data": {
      "text/plain": [
       "array([60000, 54000, 66000])"
      ]
     },
     "execution_count": 50,
     "metadata": {},
     "output_type": "execute_result"
    }
   ],
   "source": [
    "#array operations\n",
    "harga_roti = np.array([5000, 1500, 2750])\n",
    "stok_roti = np.array([12, 36, 24])\n",
    "\n",
    "harga_roti * stok_roti"
   ]
  },
  {
   "cell_type": "code",
   "execution_count": 54,
   "metadata": {},
   "outputs": [],
   "source": [
    "#harga naik roti naik 1000\n",
    "harga_roti = harga_roti + 1000"
   ]
  },
  {
   "cell_type": "code",
   "execution_count": 55,
   "metadata": {},
   "outputs": [
    {
     "name": "stdout",
     "output_type": "stream",
     "text": [
      "[6000 2500 3750]\n"
     ]
    }
   ],
   "source": [
    "print(harga_roti)"
   ]
  },
  {
   "cell_type": "code",
   "execution_count": 53,
   "metadata": {},
   "outputs": [
    {
     "name": "stdout",
     "output_type": "stream",
     "text": [
      "[15 24 32]\n",
      "[ -9 -14 -26]\n",
      "[36 95 87]\n",
      "[0.25       0.26315789 0.10344828]\n"
     ]
    }
   ],
   "source": [
    "arr1 = (rng.random(3) * 7).astype(int)\n",
    "arr2 = (rng.random(3) * 30 + 8).astype(int)\n",
    "\n",
    "print(arr1 + arr2)\n",
    "\n",
    "print(arr1 - arr2)\n",
    "\n",
    "print(arr1 * arr2)\n",
    "\n",
    "print(arr1 / arr2)"
   ]
  },
  {
   "cell_type": "code",
   "execution_count": 56,
   "metadata": {},
   "outputs": [
    {
     "name": "stdout",
     "output_type": "stream",
     "text": [
      "6000 roti termahal\n",
      "2500 roti termurah\n",
      "4083.3333333333335 rata2 harga roti\n",
      "12250 jumlah harga jika beli satu2\n"
     ]
    }
   ],
   "source": [
    "#agregasi\n",
    "print(harga_roti.max(), \"roti termahal\")\n",
    "print(harga_roti.min(), \"roti termurah\")\n",
    "print(harga_roti.mean(), \"rata2 harga roti\")\n",
    "print(harga_roti.sum(), \"jumlah harga jika beli satu2\")"
   ]
  },
  {
   "cell_type": "code",
   "execution_count": 57,
   "metadata": {},
   "outputs": [
    {
     "name": "stdout",
     "output_type": "stream",
     "text": [
      "[[110.2 123.7 158.3 134.1]\n",
      " [165.1 137.  138.5 191.1]\n",
      " [147.9 191.8 144.8 108.5]]\n"
     ]
    }
   ],
   "source": [
    "arr_angka = (rng.random(12) * 1000 + 1000).astype(int) / 10\n",
    "arr_angka = arr_angka.reshape((3,4))\n",
    "print(arr_angka)"
   ]
  },
  {
   "cell_type": "code",
   "execution_count": 58,
   "metadata": {},
   "outputs": [
    {
     "data": {
      "text/plain": [
       "array([165.1, 191.8, 158.3, 191.1])"
      ]
     },
     "execution_count": 58,
     "metadata": {},
     "output_type": "execute_result"
    }
   ],
   "source": [
    "#max min mean sum\n",
    "arr_angka.max(axis=0)\n",
    "#axis = 0 artinya per kolom"
   ]
  },
  {
   "cell_type": "code",
   "execution_count": 59,
   "metadata": {},
   "outputs": [
    {
     "data": {
      "text/plain": [
       "array([158.3, 191.1, 191.8])"
      ]
     },
     "execution_count": 59,
     "metadata": {},
     "output_type": "execute_result"
    }
   ],
   "source": [
    "arr_angka.max(axis=1)\n",
    "#axis = 1 artinya per baris"
   ]
  },
  {
   "cell_type": "code",
   "execution_count": 60,
   "metadata": {},
   "outputs": [
    {
     "name": "stdout",
     "output_type": "stream",
     "text": [
      "108.5\n",
      "[110.2 123.7 138.5 108.5]\n",
      "[110.2 137.  108.5]\n"
     ]
    }
   ],
   "source": [
    "print(arr_angka.min())\n",
    "print(arr_angka.min(axis=0))\n",
    "print(arr_angka.min(axis=1))"
   ]
  },
  {
   "cell_type": "code",
   "execution_count": 61,
   "metadata": {},
   "outputs": [
    {
     "name": "stdout",
     "output_type": "stream",
     "text": [
      "145.91666666666666\n",
      "[141.06666667 150.83333333 147.2        144.56666667]\n",
      "[131.575 157.925 148.25 ]\n"
     ]
    }
   ],
   "source": [
    "print(arr_angka.mean())\n",
    "print(arr_angka.mean(axis=0))\n",
    "print(arr_angka.mean(axis=1))"
   ]
  },
  {
   "cell_type": "code",
   "execution_count": 62,
   "metadata": {},
   "outputs": [
    {
     "data": {
      "text/plain": [
       "array([[14, 24],\n",
       "       [36, 50]])"
      ]
     },
     "execution_count": 62,
     "metadata": {},
     "output_type": "execute_result"
    }
   ],
   "source": [
    "#Matrices\n",
    "\n",
    "arr1 = np.array([[2,3], [4,5]])\n",
    "arr2 = np.array([[7,8], [9,10]])\n",
    "\n",
    "arr1 * arr2\n"
   ]
  },
  {
   "cell_type": "code",
   "execution_count": 63,
   "metadata": {},
   "outputs": [
    {
     "name": "stdout",
     "output_type": "stream",
     "text": [
      "[[10  3 12]\n",
      " [ 8  5  7]\n",
      " [ 6  7  8]\n",
      " [12  2 15]\n",
      " [15  5 17]]\n"
     ]
    }
   ],
   "source": [
    "#dot product\n",
    "\n",
    "penjualan_roti = np.array([\n",
    "                            [10,3,12],\n",
    "                            [8,5,7],\n",
    "                            [6,7,8],\n",
    "                            [12,2,15],\n",
    "                            [15,5,17],\n",
    "                          ])\n",
    "\n",
    "print(penjualan_roti)"
   ]
  },
  {
   "cell_type": "code",
   "execution_count": 64,
   "metadata": {},
   "outputs": [
    {
     "name": "stdout",
     "output_type": "stream",
     "text": [
      "[[5000]\n",
      " [7000]\n",
      " [3000]]\n"
     ]
    }
   ],
   "source": [
    "harga_roti = np.array([\n",
    "                        [5000],\n",
    "                        [7000],\n",
    "                        [3000],\n",
    "                      ])\n",
    "\n",
    "print(harga_roti)"
   ]
  },
  {
   "cell_type": "code",
   "execution_count": 66,
   "metadata": {},
   "outputs": [
    {
     "name": "stdout",
     "output_type": "stream",
     "text": [
      "[[107000]\n",
      " [ 96000]\n",
      " [103000]\n",
      " [119000]\n",
      " [161000]]\n"
     ]
    }
   ],
   "source": [
    "total_penjualan = penjualan_roti.dot(harga_roti)\n",
    "print(total_penjualan)"
   ]
  },
  {
   "cell_type": "code",
   "execution_count": 67,
   "metadata": {},
   "outputs": [
    {
     "name": "stdout",
     "output_type": "stream",
     "text": [
      "96000 161000 117200.0\n"
     ]
    }
   ],
   "source": [
    "print(total_penjualan.min(), total_penjualan.max(), total_penjualan.mean())"
   ]
  },
  {
   "cell_type": "code",
   "execution_count": 68,
   "metadata": {},
   "outputs": [
    {
     "name": "stdout",
     "output_type": "stream",
     "text": [
      "[[10  8  6 12 15]\n",
      " [ 3  5  7  2  5]\n",
      " [12  7  8 15 17]]\n"
     ]
    }
   ],
   "source": [
    "#transpose vs reshape\n",
    "print(penjualan_roti.T)"
   ]
  },
  {
   "cell_type": "code",
   "execution_count": null,
   "metadata": {},
   "outputs": [],
   "source": [
    "print(penjualan_roti.reshape())"
   ]
  },
  {
   "cell_type": "code",
   "execution_count": 72,
   "metadata": {},
   "outputs": [],
   "source": [
    "#buatlah sebuah numpy array menggunakan random antara 1 - 100\n",
    "#lakukan reshape 2 dimensi, 10 baris & 10 kolom\n",
    "#lakukan indexing untuk ambil angka 75\n",
    "#gunakan aslicing untuk ambil 4 angka sekaligus 2x2\n",
    "\n",
    "arr = np.array(rng.random(100) * 100 + 1).astype(int)\n",
    "arr = arr.reshape(10,10)\n"
   ]
  },
  {
   "cell_type": "code",
   "execution_count": 76,
   "metadata": {},
   "outputs": [
    {
     "name": "stdout",
     "output_type": "stream",
     "text": [
      "[[ 85  96   6  91  69  83  28   4   3  84]\n",
      " [ 61  92  34  81  92   9  23  83  54  13]\n",
      " [ 82  50  70  50  44   1  47  84   9  87]\n",
      " [ 75  96  52  91   1  92  50  17  35  59]\n",
      " [  8  47  20   5  36  61  14  57  28  30]\n",
      " [ 62  30  97  35  81  26  60  38 100 100]\n",
      " [ 97  69   6  85  85  49  45  90  58  31]\n",
      " [ 63  78  64  54  74  94  35  84  33  64]\n",
      " [ 14  34  14 100  60  82  33  51  15  45]\n",
      " [ 78  46  51  88  95  95  79  66  89  19]]\n",
      "75\n",
      "[[81 92]\n",
      " [50 44]]\n"
     ]
    }
   ],
   "source": [
    "print(arr)\n",
    "print(arr[3,0])\n",
    "print(arr[1:3, 3:5])"
   ]
  }
 ],
 "metadata": {
  "kernelspec": {
   "display_name": "base",
   "language": "python",
   "name": "python3"
  },
  "language_info": {
   "codemirror_mode": {
    "name": "ipython",
    "version": 3
   },
   "file_extension": ".py",
   "mimetype": "text/x-python",
   "name": "python",
   "nbconvert_exporter": "python",
   "pygments_lexer": "ipython3",
   "version": "3.12.4"
  }
 },
 "nbformat": 4,
 "nbformat_minor": 2
}
