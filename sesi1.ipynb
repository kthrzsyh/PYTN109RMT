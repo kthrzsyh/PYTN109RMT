{
 "cells": [
  {
   "cell_type": "code",
   "execution_count": 57,
   "metadata": {},
   "outputs": [
    {
     "name": "stdout",
     "output_type": "stream",
     "text": [
      "Achmad Kathariza Syah / Tacha\n",
      "jumlah jam untuk belajar DS /hari* : 1jam (senin - jumat)\n",
      "*diluar jam course\n"
     ]
    }
   ],
   "source": [
    "#PR 1\n",
    "print(\"Achmad Kathariza Syah / Tacha\")\n",
    "print(\"jumlah jam untuk belajar DS /hari* : 1jam (senin - jumat)\")\n",
    "print(\"*diluar jam course\")"
   ]
  },
  {
   "cell_type": "code",
   "execution_count": 2,
   "metadata": {},
   "outputs": [
    {
     "name": "stdout",
     "output_type": "stream",
     "text": [
      "123\n"
     ]
    }
   ],
   "source": [
    "print(123)"
   ]
  },
  {
   "cell_type": "code",
   "execution_count": 4,
   "metadata": {},
   "outputs": [
    {
     "data": {
      "text/plain": [
       "int"
      ]
     },
     "execution_count": 4,
     "metadata": {},
     "output_type": "execute_result"
    }
   ],
   "source": [
    "type(750) #type data apa ? "
   ]
  },
  {
   "cell_type": "markdown",
   "metadata": {},
   "source": [
    "## Type Data Python\n",
    "    1. Integer (angka bulat)\n",
    "    2. floating (angka desimal poin)\n",
    "    3. String (angka, huruf dikutip (\"\"))\n",
    "\n",
    "    keyword Python\n",
    "    - print (cetak data ke display)\n",
    "    - type (cetak tipe data)\n"
   ]
  },
  {
   "cell_type": "code",
   "execution_count": 5,
   "metadata": {},
   "outputs": [
    {
     "data": {
      "text/plain": [
       "'Python'"
      ]
     },
     "execution_count": 5,
     "metadata": {},
     "output_type": "execute_result"
    }
   ],
   "source": [
    "\"Python\""
   ]
  },
  {
   "cell_type": "code",
   "execution_count": 6,
   "metadata": {},
   "outputs": [
    {
     "data": {
      "text/plain": [
       "str"
      ]
     },
     "execution_count": 6,
     "metadata": {},
     "output_type": "execute_result"
    }
   ],
   "source": [
    "type(\"Python\")"
   ]
  },
  {
   "cell_type": "code",
   "execution_count": 7,
   "metadata": {},
   "outputs": [
    {
     "name": "stdout",
     "output_type": "stream",
     "text": [
      "<class 'str'>\n"
     ]
    }
   ],
   "source": [
    "print(type(\"Python\"))"
   ]
  },
  {
   "cell_type": "markdown",
   "metadata": {},
   "source": [
    "## Primitive Data Type / Dasar Type Data\n",
    "\n",
    "    1. semua yg dikutip menjadi type String 'str'\n",
    "\n",
    "    2. semua yg tdk punya decimal point menjadi Integer 'int'\n",
    "\n",
    "    3. semua yg punya desimal poin adalah float 'float'\n",
    "\n",
    "    4. True & False adalah Boolean 'bool'"
   ]
  },
  {
   "cell_type": "code",
   "execution_count": 9,
   "metadata": {},
   "outputs": [
    {
     "data": {
      "text/plain": [
       "False"
      ]
     },
     "execution_count": 9,
     "metadata": {},
     "output_type": "execute_result"
    }
   ],
   "source": [
    "False"
   ]
  },
  {
   "cell_type": "code",
   "execution_count": 8,
   "metadata": {},
   "outputs": [
    {
     "data": {
      "text/plain": [
       "bool"
      ]
     },
     "execution_count": 8,
     "metadata": {},
     "output_type": "execute_result"
    }
   ],
   "source": [
    "type(True)"
   ]
  },
  {
   "cell_type": "markdown",
   "metadata": {},
   "source": [
    "## Variable \n",
    "\n",
    "    kasih nama ke data \n",
    "\n",
    "    nilai_andi = 70\n",
    "\n",
    "    aturan :\n",
    "    - dimulai dengan alfabet\n",
    "    - tidak ada spasi, ganti menjadi \"_\" => snake_case\n",
    "    - semua huruf kecil\n",
    "\n",
    "    snake_case untuk Variable\n",
    "\n",
    "    camelCase untuk Function\n",
    "\n",
    "    !!tidak boleh pakai keyword Python sbg nama Variable. Python tdk error. Akan kehilangan fungsi keyword.\n",
    "\n",
    "    huruf besar kecil pada variabel di anggap berbeda\n"
   ]
  },
  {
   "cell_type": "markdown",
   "metadata": {},
   "source": [
    "## Operations & Expression in Python\n",
    "\n",
    "    Functions\n",
    "\n",
    "    set kode yg punya tujuan tertentu, terima data - proses - memberi output\n",
    "\n",
    "    build in functions : function bawaan dari Python\n",
    "\n",
    "    misalnya jadi kalkulator. aritmatik. "
   ]
  },
  {
   "cell_type": "code",
   "execution_count": 11,
   "metadata": {},
   "outputs": [
    {
     "data": {
      "text/plain": [
       "7.8"
      ]
     },
     "execution_count": 11,
     "metadata": {},
     "output_type": "execute_result"
    }
   ],
   "source": [
    "2 + 5.8 #type nya beda tetap bisa jumlah"
   ]
  },
  {
   "cell_type": "code",
   "execution_count": 12,
   "metadata": {},
   "outputs": [
    {
     "name": "stdout",
     "output_type": "stream",
     "text": [
      "Rata-rata nilai Andi adalah 78.75\n"
     ]
    }
   ],
   "source": [
    "nilai_andi_a1 = 65\n",
    "nilai_andi_a2 = 75\n",
    "nilai_andi_a3 = 80\n",
    "nilai_andi_final = 95\n",
    "\n",
    "total_nilai = nilai_andi_a1+nilai_andi_a2+nilai_andi_a3+nilai_andi_final\n",
    "\n",
    "rata2_nilai_andi = total_nilai / 4\n",
    "\n",
    "print(\"Rata-rata nilai Andi adalah\", rata2_nilai_andi)\n"
   ]
  },
  {
   "cell_type": "markdown",
   "metadata": {},
   "source": [
    "    selain aritmatika, ada pembanding / comparator\n",
    "\n",
    "    '>' lebih besar\n",
    "\n",
    "    '<' lebih kecil\n",
    "\n",
    "    '>=' lebih besar sama dengan\n",
    "\n",
    "    '<=' lebih kecil sama dengan\n",
    "\n",
    "    '==' sama\n",
    "\n",
    "    '!=' berbeda\n",
    "\n",
    "    hasil comparator , bool "
   ]
  },
  {
   "cell_type": "code",
   "execution_count": 14,
   "metadata": {},
   "outputs": [
    {
     "name": "stdout",
     "output_type": "stream",
     "text": [
      "True\n"
     ]
    }
   ],
   "source": [
    "#komparasi data non numerik, str bisa. kegunaan untuk sortir data.\n",
    "\n",
    "print(\"a\" > \"A\")"
   ]
  },
  {
   "cell_type": "markdown",
   "metadata": {},
   "source": [
    "## penjelasan Boolean\n",
    "\n",
    "    int --> float\n",
    "    float --> integer\n",
    "    int, float --> string\n",
    "\n",
    "    semua data --> boolean\n",
    "\n",
    "    semua data yg kosong di anggap False, semua yg ada isinya True \n",
    "\n",
    "    Truhty & Falsy\n",
    "\n",
    "    false :\n",
    "    - 0 int\n",
    "    - 0.0 float\n",
    "    - \"\" String\n",
    "    - false boolean\n",
    "\n",
    "    True :\n",
    "    - 10"
   ]
  },
  {
   "cell_type": "code",
   "execution_count": 15,
   "metadata": {},
   "outputs": [
    {
     "name": "stdout",
     "output_type": "stream",
     "text": [
      "<class 'int'>\n"
     ]
    }
   ],
   "source": [
    "a = 100\n",
    "print(type(a))"
   ]
  },
  {
   "cell_type": "code",
   "execution_count": 16,
   "metadata": {},
   "outputs": [
    {
     "name": "stdout",
     "output_type": "stream",
     "text": [
      "<class 'float'>\n"
     ]
    }
   ],
   "source": [
    "b = float(a)\n",
    "print(type(b))"
   ]
  },
  {
   "cell_type": "code",
   "execution_count": 17,
   "metadata": {},
   "outputs": [
    {
     "name": "stdout",
     "output_type": "stream",
     "text": [
      "99.8 <class 'float'>\n",
      "99 <class 'int'>\n"
     ]
    }
   ],
   "source": [
    "a=99.8\n",
    "print(a, type(a))\n",
    "\n",
    "b = int(a)\n",
    "print(b, type(b))"
   ]
  },
  {
   "cell_type": "code",
   "execution_count": 18,
   "metadata": {},
   "outputs": [
    {
     "name": "stdout",
     "output_type": "stream",
     "text": [
      "99.8 <class 'str'>\n",
      "99 <class 'str'>\n"
     ]
    }
   ],
   "source": [
    "#semua data bisa jadi str\n",
    "\n",
    "c = str(a)\n",
    "print(c, type(c))\n",
    "\n",
    "c = str(b)\n",
    "print(c, type(c))"
   ]
  },
  {
   "cell_type": "code",
   "execution_count": 19,
   "metadata": {},
   "outputs": [
    {
     "name": "stdout",
     "output_type": "stream",
     "text": [
      "-30 <class 'str'>\n",
      "-30 <class 'int'>\n",
      "-30.0 <class 'float'>\n"
     ]
    }
   ],
   "source": [
    "#hanya string yg valid, beneran numerik, bisa jadi int & float\n",
    "\n",
    "c = \"-30\"\n",
    "print(c, type(c))\n",
    "\n",
    "a = int(c)\n",
    "print(a,type(a))\n",
    "\n",
    "b = float(c)\n",
    "print(b, type(b))"
   ]
  },
  {
   "cell_type": "code",
   "execution_count": 23,
   "metadata": {},
   "outputs": [
    {
     "name": "stdout",
     "output_type": "stream",
     "text": [
      "False True True\n",
      " <class 'str'> False\n"
     ]
    }
   ],
   "source": [
    "#semua type data bisa berubah menjadi boolean\n",
    "\n",
    "print(bool(0), bool(b), bool(c)) # False\n",
    "\n",
    "d = \"\"\n",
    "print(d, type(d), bool(d))"
   ]
  },
  {
   "cell_type": "markdown",
   "metadata": {},
   "source": [
    "## String Manipulation\n",
    "    - di tambah + untuk menempelkan string jadi 1\n",
    "    - ubah Case, gedhe kecil\n",
    "    - check panjang karakter\n",
    "    - check apakah ada text dalam text ? "
   ]
  },
  {
   "cell_type": "code",
   "execution_count": 25,
   "metadata": {},
   "outputs": [
    {
     "data": {
      "text/plain": [
       "'Hallo,selamat Malam'"
      ]
     },
     "execution_count": 25,
     "metadata": {},
     "output_type": "execute_result"
    }
   ],
   "source": [
    "pesan = \"Hallo\"\n",
    "\n",
    "pesan+\",selamat Malam\"\n"
   ]
  },
  {
   "cell_type": "code",
   "execution_count": 26,
   "metadata": {},
   "outputs": [
    {
     "name": "stdout",
     "output_type": "stream",
     "text": [
      "Hallo\n"
     ]
    }
   ],
   "source": [
    "print(pesan)"
   ]
  },
  {
   "cell_type": "code",
   "execution_count": 39,
   "metadata": {},
   "outputs": [
    {
     "name": "stdout",
     "output_type": "stream",
     "text": [
      "Hallo,selamat Malam,selamat Malam,selamat Malam,selamat Malam,selamat Malam,selamat Malam,selamat Malam,selamat Malam,selamat Malam,selamat Malam,selamat Malam,selamat Malam,selamat Malam\n"
     ]
    }
   ],
   "source": [
    "pesan = pesan + \",selamat Malam\"\n",
    "print(pesan)"
   ]
  },
  {
   "cell_type": "code",
   "execution_count": 42,
   "metadata": {},
   "outputs": [
    {
     "name": "stdout",
     "output_type": "stream",
     "text": [
      "Hallo,selamat Malam,selamat Malam,selamat Malam,selamat Malam,selamat Malam,selamat Malam,selamat Malam,selamat Malam,selamat Malam,selamat Malam,selamat Malam,selamat Malam,selamat Malam\n",
      "HALLO,SELAMAT MALAM,SELAMAT MALAM,SELAMAT MALAM,SELAMAT MALAM,SELAMAT MALAM,SELAMAT MALAM,SELAMAT MALAM,SELAMAT MALAM,SELAMAT MALAM,SELAMAT MALAM,SELAMAT MALAM,SELAMAT MALAM,SELAMAT MALAM\n",
      "hallo,selamat malam,selamat malam,selamat malam,selamat malam,selamat malam,selamat malam,selamat malam,selamat malam,selamat malam,selamat malam,selamat malam,selamat malam,selamat malam\n",
      "Hallo,Selamat Malam,Selamat Malam,Selamat Malam,Selamat Malam,Selamat Malam,Selamat Malam,Selamat Malam,Selamat Malam,Selamat Malam,Selamat Malam,Selamat Malam,Selamat Malam,Selamat Malam\n"
     ]
    }
   ],
   "source": [
    "print(pesan)\n",
    "print(pesan.upper())\n",
    "print(pesan.lower())\n",
    "print(pesan.title())"
   ]
  },
  {
   "cell_type": "code",
   "execution_count": 44,
   "metadata": {},
   "outputs": [
    {
     "name": "stdout",
     "output_type": "stream",
     "text": [
      "187\n"
     ]
    }
   ],
   "source": [
    "print(len(pesan))"
   ]
  },
  {
   "cell_type": "code",
   "execution_count": 45,
   "metadata": {},
   "outputs": [
    {
     "data": {
      "text/plain": [
       "False"
      ]
     },
     "execution_count": 45,
     "metadata": {},
     "output_type": "execute_result"
    }
   ],
   "source": [
    "\"Halo\" in pesan"
   ]
  },
  {
   "cell_type": "markdown",
   "metadata": {},
   "source": [
    "# Structured Data\n",
    "\n",
    "## 1. list [] :\n",
    "\n",
    "    boleh beda type data\n",
    "\n",
    "    setiap type data di pisah ','\n",
    "    \n",
    "    cara ambil pakai index, mulai dari 0, -1 data terakhir\n",
    "\n",
    "    index -2 , data no. 2 dari blkng, dst\n",
    "## 2. dictionary {} :\n",
    "\n",
    "    simpan data acak\n",
    "\n",
    "    dipisah dg ','\n",
    "\n",
    "    setiap data simpan sepasang, key & value\n",
    "\n",
    "    key = str pengganti index, untuk mengakses data tertentu\n",
    "\n",
    "    tidak otomatis urut, langsung di paling belakang\n",
    "\n",
    "## 3. tuple :\n",
    "    tuple tidak bisa di update\n",
    "    \n",
    "\n",
    "## 4. Set :\n",
    "    data unik, tidak ada data kembar\n",
    "    tidak bisa di akses dg index\n",
    "    tidak bisa di akses dg key\n"
   ]
  },
  {
   "cell_type": "code",
   "execution_count": 46,
   "metadata": {},
   "outputs": [
    {
     "name": "stdout",
     "output_type": "stream",
     "text": [
      "[80, 85, 90, 100] <class 'list'> 4\n"
     ]
    }
   ],
   "source": [
    "#lists\n",
    "nilai_andi = [80, 85, 90, 100]\n",
    "print(nilai_andi, type(nilai_andi), len(nilai_andi))"
   ]
  },
  {
   "cell_type": "code",
   "execution_count": 47,
   "metadata": {},
   "outputs": [
    {
     "name": "stdout",
     "output_type": "stream",
     "text": [
      "80\n"
     ]
    }
   ],
   "source": [
    "print(nilai_andi[0])"
   ]
  },
  {
   "cell_type": "code",
   "execution_count": 49,
   "metadata": {},
   "outputs": [
    {
     "name": "stdout",
     "output_type": "stream",
     "text": [
      "{'assignment1': 70, 'assignment2': 80, 'assignment3': 90, 'finalProject': 100} <class 'dict'>\n"
     ]
    }
   ],
   "source": [
    "#dictionary\n",
    "nilai_andi = {\n",
    "    \"assignment1\": 70,\n",
    "    \"assignment2\": 80,\n",
    "    \"assignment3\": 90,\n",
    "    \"finalProject\" : 100\n",
    "}\n",
    "\n",
    "print(nilai_andi, type(nilai_andi))"
   ]
  },
  {
   "cell_type": "code",
   "execution_count": 50,
   "metadata": {},
   "outputs": [
    {
     "data": {
      "text/plain": [
       "70"
      ]
     },
     "execution_count": 50,
     "metadata": {},
     "output_type": "execute_result"
    }
   ],
   "source": [
    "#panggil nilai tertentu\n",
    "nilai_andi['assignment1']"
   ]
  },
  {
   "cell_type": "code",
   "execution_count": 52,
   "metadata": {},
   "outputs": [
    {
     "name": "stdout",
     "output_type": "stream",
     "text": [
      "{'assignment1': 70, 'assignment2': 80, 'assignment3': 90, 'finalProject': 100, 'assignment0': 10}\n"
     ]
    }
   ],
   "source": [
    "#append data andi\n",
    "nilai_andi[\"assignment0\"] = 10\n",
    "print(nilai_andi)"
   ]
  },
  {
   "cell_type": "code",
   "execution_count": 53,
   "metadata": {},
   "outputs": [],
   "source": [
    "#delete\n",
    "nilai_andi = {}"
   ]
  },
  {
   "cell_type": "code",
   "execution_count": 54,
   "metadata": {},
   "outputs": [
    {
     "name": "stdout",
     "output_type": "stream",
     "text": [
      "{}\n"
     ]
    }
   ],
   "source": [
    "print(nilai_andi)"
   ]
  }
 ],
 "metadata": {
  "kernelspec": {
   "display_name": "base",
   "language": "python",
   "name": "python3"
  },
  "language_info": {
   "codemirror_mode": {
    "name": "ipython",
    "version": 3
   },
   "file_extension": ".py",
   "mimetype": "text/x-python",
   "name": "python",
   "nbconvert_exporter": "python",
   "pygments_lexer": "ipython3",
   "version": "3.12.4"
  }
 },
 "nbformat": 4,
 "nbformat_minor": 2
}
