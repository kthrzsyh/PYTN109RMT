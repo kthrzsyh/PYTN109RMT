{
 "cells": [
  {
   "cell_type": "markdown",
   "metadata": {},
   "source": [
    "### LINK PENTING\n",
    "\n",
    "Sesi 1 : \n",
    "https://drive.google.com/file/d/16GllZ7CUEybPDHwukpK-i47oJ3cCwRrY/view\n",
    "\n",
    "Sesi 2 : \n",
    "https://colab.research.google.com/drive/1Kegmgo5rBHOiDv9do8QFHOCDItRwWHei\n",
    "\n",
    "Sesi 3 : \n",
    "https://drive.google.com/file/d/1-Q_cmmvgKwOnSEPFKte0WmqzHnVgKIkt/view\n",
    "\n",
    "Sesi 4 : \n",
    "https://colab.research.google.com/drive/1EHa4dAEQavfGAxkkKxESsYsOqHHiBEKn\n",
    "\n",
    "Sesi 5 : \n",
    "https://drive.google.com/file/d/1YoPaJJEeXGLsU0g5xvnbS2BslNcVWHQ3/view\n",
    "\n",
    "Sesi 6 :\n",
    "https://colab.research.google.com/drive/1W2fpf9zlQ0id9fw6HaGhOr7ymOv_wRRb\n",
    "\n",
    "Sesi 7 : -\n",
    "\n",
    "Sesi 8 : -\n",
    "\n",
    "Sesi 9 : \n",
    "https://colab.research.google.com/drive/1-J9YSTSAO5EKATheEk1QgqVih13HDRAa\n",
    "\n",
    "Sesi 10 : \n",
    "https://colab.research.google.com/drive/16c5Qh0G-gwQs8Qr1yU9VQo0oErdRVsWJ?usp=sharing\n",
    "\n",
    "Sesi 11 : \n",
    "https://colab.research.google.com/drive/1emKxjA68LEF0Ag9Khfx1U4TdaGX2GN9r?usp=sharing\n",
    "\n",
    "Sesi 12 : \n",
    "https://colab.research.google.com/drive/1ldLMmcG6hWRT5l6zCspIkJW33_y3zVnY#scrollTo=H8gtzN0FZYOz\n",
    "\n",
    "Sesi 13 : \n",
    "https://colab.research.google.com/drive/1yygtqt36uGf0_a0hOCL5nKFPythBU7fm#scrollTo=wH97AyExKq6V"
   ]
  }
 ],
 "metadata": {
  "language_info": {
   "name": "python"
  }
 },
 "nbformat": 4,
 "nbformat_minor": 2
}
