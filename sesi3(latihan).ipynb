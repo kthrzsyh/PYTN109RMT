{
 "cells": [
  {
   "cell_type": "markdown",
   "metadata": {},
   "source": [
    "## Soal\n",
    "1. buat file notebook (.ipynb)\n",
    "2. buat 4 variable berisi int, float, bool, dan string\n",
    "3. buat conditional if elif else yang menhitung panjang string nya.\n",
    "    - kalau angka int >= panjang string, print \"int lebih besar\"\n",
    "    - kalau tidak, print \"string lebih besar\"\n",
    "4. buat while loop, selama float < int nya\n",
    "    - tambahkan 0.3 ke angka float nya di setiap iterasi\n",
    "    - print hasil akhir angka float dan int nya\n",
    "5. untuk setiap karakter dalam string nya,\n",
    "    - print versi huruf besar dan huruf kecilnya\n",
    "6. masukkan code dari #3-#5 ke sebuah function. buat function ini menerima 4 parameter (di #2).\n",
    "7. masukkan function ini ke dalam file module .py\n",
    "8. tambahkan satu variable \"makanan\" berisi sebuah dictionary, dictionary nya tentang satu makanan, ada nama, harga, dan deskripsi.\n",
    "9. tambahkan satu variable lagi \"buah_buahan\" berisi list, dengan nama nama buah berbeda."
   ]
  },
  {
   "cell_type": "code",
   "execution_count": 8,
   "metadata": {},
   "outputs": [],
   "source": [
    "iniInteger = 5\n",
    "iniFloat = 1.4\n",
    "iniBool = True\n",
    "iniString = \"Hallo\""
   ]
  },
  {
   "cell_type": "code",
   "execution_count": 9,
   "metadata": {},
   "outputs": [
    {
     "name": "stdout",
     "output_type": "stream",
     "text": [
      "Int lebih kecil\n"
     ]
    }
   ],
   "source": [
    "if iniInteger > len(iniString):\n",
    "    print(\"Int lebih besar\")\n",
    "else :\n",
    "    print(\"Int lebih kecil\")"
   ]
  },
  {
   "cell_type": "code",
   "execution_count": 10,
   "metadata": {},
   "outputs": [
    {
     "name": "stdout",
     "output_type": "stream",
     "text": [
      "1.4\n",
      "1.7\n",
      "2.0\n",
      "2.3\n",
      "2.5999999999999996\n",
      "2.8999999999999995\n",
      "3.1999999999999993\n",
      "3.499999999999999\n",
      "3.799999999999999\n",
      "4.099999999999999\n",
      "4.399999999999999\n",
      "4.699999999999998\n",
      "4.999999999999998\n"
     ]
    }
   ],
   "source": [
    "while iniFloat < iniInteger :\n",
    "    print(iniFloat)\n",
    "    iniFloat = iniFloat + 0.3"
   ]
  },
  {
   "cell_type": "code",
   "execution_count": 13,
   "metadata": {},
   "outputs": [
    {
     "name": "stdout",
     "output_type": "stream",
     "text": [
      "Huruf Besar: H, Huruf Kecil: h\n",
      "Huruf Besar: A, Huruf Kecil: a\n",
      "Huruf Besar: L, Huruf Kecil: l\n",
      "Huruf Besar: L, Huruf Kecil: l\n",
      "Huruf Besar: O, Huruf Kecil: o\n"
     ]
    }
   ],
   "source": [
    "for i in iniString:\n",
    "    print(f\"Huruf Besar: {i.upper()}, Huruf Kecil: {i.lower()}\")"
   ]
  },
  {
   "cell_type": "code",
   "execution_count": 15,
   "metadata": {},
   "outputs": [
    {
     "name": "stdout",
     "output_type": "stream",
     "text": [
      "Int lebih besar\n",
      "3.14\n",
      "3.44\n",
      "3.7399999999999998\n",
      "4.04\n",
      "4.34\n",
      "4.64\n",
      "4.9399999999999995\n",
      "5.239999999999999\n",
      "5.539999999999999\n",
      "5.839999999999999\n",
      "6.139999999999999\n",
      "6.439999999999999\n",
      "6.739999999999998\n",
      "7.039999999999998\n",
      "7.339999999999998\n",
      "7.639999999999998\n",
      "7.939999999999998\n",
      "8.239999999999998\n",
      "8.54\n",
      "8.84\n",
      "9.14\n",
      "9.440000000000001\n",
      "9.740000000000002\n",
      "Huruf Besar: H, Huruf Kecil: h\n",
      "Huruf Besar: E, Huruf Kecil: e\n",
      "Huruf Besar: L, Huruf Kecil: l\n",
      "Huruf Besar: L, Huruf Kecil: l\n",
      "Huruf Besar: O, Huruf Kecil: o\n"
     ]
    }
   ],
   "source": [
    "def iniFunction(varInt, varFloat, varBool, varString):\n",
    "    if varInt > len(varString):\n",
    "        print(\"Int lebih besar\")\n",
    "    else :\n",
    "        print(\"Int lebih kecil\")\n",
    "        \n",
    "    while varFloat < varInt :\n",
    "        print(varFloat)\n",
    "        varFloat = varFloat + 0.3\n",
    "        \n",
    "    for i in varString:\n",
    "        print(f\"Huruf Besar: {i.upper()}, Huruf Kecil: {i.lower()}\")\n",
    "        \n",
    "iniFunction(10, 3.14, True, \"Hello\")"
   ]
  }
 ],
 "metadata": {
  "kernelspec": {
   "display_name": "base",
   "language": "python",
   "name": "python3"
  },
  "language_info": {
   "codemirror_mode": {
    "name": "ipython",
    "version": 3
   },
   "file_extension": ".py",
   "mimetype": "text/x-python",
   "name": "python",
   "nbconvert_exporter": "python",
   "pygments_lexer": "ipython3",
   "version": "3.12.4"
  }
 },
 "nbformat": 4,
 "nbformat_minor": 2
}
