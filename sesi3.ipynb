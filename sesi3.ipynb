{
 "cells": [
  {
   "cell_type": "markdown",
   "metadata": {},
   "source": [
    "## Sesi 3\n",
    "\n",
    "- Function\n",
    "- Module\n",
    "- Package"
   ]
  },
  {
   "cell_type": "code",
   "execution_count": 1,
   "metadata": {},
   "outputs": [],
   "source": [
    "#function : pakai camelCase\n",
    "def hitungAngka():\n",
    "    print(\"Menghitung :\")\n",
    "    hasil = 5 + 5\n",
    "    print(hasil)\n"
   ]
  },
  {
   "cell_type": "code",
   "execution_count": 3,
   "metadata": {},
   "outputs": [
    {
     "name": "stdout",
     "output_type": "stream",
     "text": [
      "Menghitung :\n",
      "10\n"
     ]
    }
   ],
   "source": [
    "hitungAngka()"
   ]
  },
  {
   "cell_type": "code",
   "execution_count": 4,
   "metadata": {},
   "outputs": [],
   "source": [
    "#latihan pendek\n",
    "#hitung umur anda * tahun lahir / 292024\n",
    "#print hasilnya\n",
    "#print juga string salam dengan perkenalan nama anda\n",
    "\n",
    "def latihanPendek():\n",
    "    tahunLahir = int(input(\"Masukkan tahun lahir anda: \"))\n",
    "    umur = 2024 - tahunLahir\n",
    "    print(\"Halo Saya Tacha, Usia saya \",umur,\" tahun\")"
   ]
  },
  {
   "cell_type": "code",
   "execution_count": 5,
   "metadata": {},
   "outputs": [
    {
     "name": "stdout",
     "output_type": "stream",
     "text": [
      "Halo Saya Tacha, Usia saya  26  tahun\n"
     ]
    }
   ],
   "source": [
    "latihanPendek()"
   ]
  },
  {
   "cell_type": "code",
   "execution_count": 7,
   "metadata": {},
   "outputs": [],
   "source": [
    "#latihan pendek 2\n",
    "def kenalan(nama, umur, tahun_lahir, today):\n",
    "    hasil = umur *  tahun_lahir / today\n",
    "    print(hasil)\n",
    "    print(\"salam kenal saya\", nama)"
   ]
  },
  {
   "cell_type": "code",
   "execution_count": 8,
   "metadata": {},
   "outputs": [
    {
     "name": "stdout",
     "output_type": "stream",
     "text": [
      "0.20484617702654576\n",
      "salam kenal saya Andi\n"
     ]
    }
   ],
   "source": [
    "kenalan(\"Andi\", 30, 1994, 292024)"
   ]
  },
  {
   "cell_type": "code",
   "execution_count": 9,
   "metadata": {},
   "outputs": [
    {
     "name": "stdout",
     "output_type": "stream",
     "text": [
      "0.3523517893596634\n",
      "salam kenal saya Budi\n"
     ]
    }
   ],
   "source": [
    "kenalan(\"Budi\", 34, 1990, 192024)"
   ]
  },
  {
   "cell_type": "code",
   "execution_count": 10,
   "metadata": {},
   "outputs": [
    {
     "name": "stdout",
     "output_type": "stream",
     "text": [
      "0.263701489913418\n",
      "salam kenal saya Cindi\n"
     ]
    }
   ],
   "source": [
    "kenalan(\"Cindi\", 24, 2000, 182024)"
   ]
  },
  {
   "cell_type": "code",
   "execution_count": 16,
   "metadata": {},
   "outputs": [],
   "source": [
    "#latihan pendek\n",
    "def sebuahFunction(n,m):\n",
    "    kali = n*m\n",
    "    return kali"
   ]
  },
  {
   "cell_type": "code",
   "execution_count": 17,
   "metadata": {},
   "outputs": [
    {
     "name": "stdout",
     "output_type": "stream",
     "text": [
      "50\n"
     ]
    }
   ],
   "source": [
    "hasil = sebuahFunction(5,10)\n",
    "\n",
    "print(hasil)"
   ]
  },
  {
   "cell_type": "markdown",
   "metadata": {},
   "source": [
    ".py itu module\n"
   ]
  },
  {
   "cell_type": "code",
   "execution_count": 19,
   "metadata": {},
   "outputs": [
    {
     "data": {
      "text/plain": [
       "15"
      ]
     },
     "execution_count": 19,
     "metadata": {},
     "output_type": "execute_result"
    }
   ],
   "source": [
    "import murid.andi as andi\n",
    "\n",
    "andi.umur"
   ]
  },
  {
   "cell_type": "markdown",
   "metadata": {},
   "source": [
    "# Latihan \n",
    "buat module \n",
    "\n",
    "budi.py - isi var nama, umur, hobi, dan isi function kenalan\n",
    "\n",
    "tambahkan 1 var  & function extra"
   ]
  },
  {
   "cell_type": "code",
   "execution_count": 29,
   "metadata": {},
   "outputs": [
    {
     "name": "stdout",
     "output_type": "stream",
     "text": [
      "Hallo Nama saya,  Budi\n",
      "Usia saya  26\n",
      "Hobi saya  Main Bola\n"
     ]
    }
   ],
   "source": [
    "import murid.budi as budi \n",
    "\n",
    "budi.kenalan()"
   ]
  },
  {
   "cell_type": "code",
   "execution_count": 31,
   "metadata": {},
   "outputs": [],
   "source": [
    "import numpy as np"
   ]
  },
  {
   "cell_type": "code",
   "execution_count": 32,
   "metadata": {},
   "outputs": [
    {
     "data": {
      "text/plain": [
       "3.141592653589793"
      ]
     },
     "execution_count": 32,
     "metadata": {},
     "output_type": "execute_result"
    }
   ],
   "source": [
    "np.pi"
   ]
  },
  {
   "cell_type": "markdown",
   "metadata": {},
   "source": [
    "Module yg akan di pakai Numpy & Pandas"
   ]
  },
  {
   "cell_type": "markdown",
   "metadata": {},
   "source": [
    "# Package \n",
    "Sekumpulan module dalam sebuah folder"
   ]
  },
  {
   "cell_type": "code",
   "execution_count": 34,
   "metadata": {},
   "outputs": [
    {
     "name": "stdout",
     "output_type": "stream",
     "text": [
      "Hallo Nama saya,  Budi\n",
      "Usia saya  26\n",
      "Hobi saya  ['Main Bola', 'Basket', 'Makan']\n"
     ]
    }
   ],
   "source": [
    "import murid.andi as ma \n",
    "import murid.budi as bu\n",
    "\n",
    "bu.kenalan()"
   ]
  },
  {
   "cell_type": "code",
   "execution_count": 37,
   "metadata": {},
   "outputs": [
    {
     "data": {
      "text/plain": [
       "'Andi'"
      ]
     },
     "execution_count": 37,
     "metadata": {},
     "output_type": "execute_result"
    }
   ],
   "source": [
    "ma.nama"
   ]
  },
  {
   "cell_type": "code",
   "execution_count": 40,
   "metadata": {},
   "outputs": [
    {
     "name": "stdout",
     "output_type": "stream",
     "text": [
      "200\n"
     ]
    }
   ],
   "source": [
    "import requests\n",
    "\n",
    "r = requests.get(\"https://bcafinance.co.id/\")\n",
    "print(r.status_code)"
   ]
  },
  {
   "cell_type": "code",
   "execution_count": null,
   "metadata": {},
   "outputs": [],
   "source": [
    "writeHtml = open('')"
   ]
  }
 ],
 "metadata": {
  "kernelspec": {
   "display_name": "base",
   "language": "python",
   "name": "python3"
  },
  "language_info": {
   "codemirror_mode": {
    "name": "ipython",
    "version": 3
   },
   "file_extension": ".py",
   "mimetype": "text/x-python",
   "name": "python",
   "nbconvert_exporter": "python",
   "pygments_lexer": "ipython3",
   "version": "3.12.4"
  }
 },
 "nbformat": 4,
 "nbformat_minor": 2
}
