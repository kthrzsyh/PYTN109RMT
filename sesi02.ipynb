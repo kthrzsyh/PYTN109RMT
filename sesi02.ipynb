{
  "nbformat": 4,
  "nbformat_minor": 0,
  "metadata": {
    "colab": {
      "provenance": []
    },
    "kernelspec": {
      "name": "python3",
      "display_name": "Python 3"
    },
    "language_info": {
      "name": "python"
    }
  },
  "cells": [
    {
      "cell_type": "code",
      "execution_count": null,
      "metadata": {
        "colab": {
          "base_uri": "https://localhost:8080/"
        },
        "id": "Bmy-sWEs4kCM",
        "outputId": "9379dfbc-09e8-4263-f463-39737fc92891"
      },
      "outputs": [
        {
          "output_type": "stream",
          "name": "stdout",
          "text": [
            "Selamat datang ke Sesi 2!\n"
          ]
        }
      ],
      "source": [
        "pesan = \"Selamat datang ke Sesi 2!\"\n",
        "\n",
        "print(pesan)"
      ]
    },
    {
      "cell_type": "markdown",
      "source": [
        "# Review Sesi 1\n",
        "- tipe data primitif\n",
        "- variable\n",
        "- tipe data terstruktur\n",
        "\n",
        "## tipe data primitif\n",
        "ada 4 jenis tipe data di Python:\n",
        "1. int\n",
        "2. float\n",
        "3. string\n",
        "4. boolean\n",
        "\n",
        "int adalah angka bulat tanpa desimal\n",
        "\n",
        "float adalah angka yang punya desimal poin, bahkan 0.0 sekalipun\n",
        "\n",
        "string adalah text, asalkan dikutip dia akan jadi tipe data text. bisa menyimpan angka, alfabet, simbol, termasuk spasi.\n",
        "\n",
        "boolean adalah True atau False. dua pilihan data yang khusus disimpan ke tipe data boolean.\n",
        "\n",
        "## variable\n",
        "kita simpan data, atau, kita kasih nama supaya data itu punya nama, bisa kita panggil lagi. variable assignment. memberi nama ke sebuah data. membuat sebuah variable, tempat simpan data.\n",
        "\n",
        "ada peraturan untuk membuat nama variable di Python:\n",
        "1. harus dimulai dengan alfabet\n",
        "2. huruf kecil semua\n",
        "3. spasi diganti menjadi _\n",
        "4. tidak menggunakan keyword Python sebagai nama variable. misalnya print, type, int, float, string, boolean, dan banyak lagi.\n",
        "\n",
        "## tipe data terstruktur\n",
        "karena variable cuma bisa simpan 1 data, kalau data kita banyak, misalnya kita mau simpan data 100 pelanggan. 100 pelanggan masing masing punya nama, alamat, total pembelian, tanggal pembelian terakhir...\n",
        "\n",
        "tidak realistis untuk membuat ratusan variable berbeda untuk simpan data tersebut.\n",
        "\n",
        "jadi, kita punya tipe data yang lebih complex. sebuah data yang bisa menyimpan banyak data, lebih dari satu. jadi 1 variable bisa simpan banyak data.\n",
        "\n",
        "- list\n",
        "- dictionary\n",
        "\n",
        "### list\n",
        "- dibuat dengan `[]`\n",
        "- setiap data dipisah dengan `,`\n",
        "- setiap data memiliki angka urut index dimulai dari 0\n",
        "\n",
        "kita bisa simpan banyak data berbeda di satu `[]` dalam format `[data1, data2, data3, ...]`\n",
        "\n",
        "setiap data yang disimpan bisa bertipe int float str bool list dict, dan lainnya.\n",
        "\n",
        "untuk mengakses data yang ada di dalam list, kita gunakan angka integer index mulai dari 0 untuk data1.\n",
        "\n",
        "### dictionary\n",
        "- dibuat dengan `{}`\n",
        "- setiap data dipisah dengan `,`\n",
        "- setiap data adalah sepasang key: value\n",
        "- key memiliki tipe data string\n",
        "- value memiliki tipe data bebas, string int float bool list dict, dan lainnya\n",
        "\n",
        "kita bisa simpan banyak data berbeda di satu `{}` dalam format `{ \"key1\": data1, \"key2\": data2, ...}`\n",
        "\n",
        "setiap data yang disimpan harus sepasang sepasang. harus punya key, yang string. harus punya value, tipe data bebas.\n",
        "\n",
        "untuk mengakses data yang ada di dalam dictionary, kita gunakan string key nya. masing masing data punya key yang berbeda."
      ],
      "metadata": {
        "id": "r758sqvO41KQ"
      }
    },
    {
      "cell_type": "code",
      "source": [
        "# ini komentar\n",
        "\n",
        "123\n",
        "\n",
        "2.0\n",
        "\n",
        "\"asd\"\n",
        "\n",
        "True\n",
        "\n",
        "[]\n",
        "\n",
        "{}\n",
        "\n",
        "pesan\n",
        "\n",
        "print()"
      ],
      "metadata": {
        "id": "dpxELbx_-szx"
      },
      "execution_count": null,
      "outputs": []
    },
    {
      "cell_type": "markdown",
      "source": [
        "perhatikan warna warna berbeda saat mengetik code Python. hijau tua itu komentar, bukan code. lalu warna lain itu code. ada data tipe numerik, string text, boolean, variable, dan lainnya."
      ],
      "metadata": {
        "id": "h6uDUXPiAw6z"
      }
    },
    {
      "cell_type": "markdown",
      "source": [
        "# Sesi 2\n",
        "# Conditional dan Loop\n",
        "\n",
        "## Conditional\n",
        "if, else\n",
        "\n",
        "kalau ... maka ...\n",
        "\n",
        "kalau kejadiannya begini, maka aku akan melakukan sesuatu A\n",
        "\n",
        "kalau kejadiannya begitu, maka aku akan melakukan sesuatu B\n",
        "\n",
        "kalau kejadiannya begini, maka aku tidak melakukan A\n",
        "\n",
        "pada dasarnya conditional adalah teknik memberi kondisi pada program Python kita. dengan menggunakan keyword if dan else, kita bisa membuat program jalan hanya saat kondisi tertentu terpenuhi."
      ],
      "metadata": {
        "id": "Ijs9-CPuA_oL"
      }
    },
    {
      "cell_type": "code",
      "source": [
        "# misalkan kita punya seorang murid bernama Andi\n",
        "# umur Andi di 16 tahun\n",
        "\n",
        "umur_andi = 16\n",
        "\n",
        "# kalau umur Andi sudah 17 tahun keatas, dia boleh ikut kelas ini yang khusus orang dewasa\n",
        "# kalau tidak, maka Andi harus ikut kelas anak kecil untuk umur 16 kebawah.\n",
        "\n",
        "if umur_andi >= 17:\n",
        "  print(\"Andi boleh ikut kelas dewasa\")"
      ],
      "metadata": {
        "id": "OxCaSvC7Be7M"
      },
      "execution_count": null,
      "outputs": []
    },
    {
      "cell_type": "markdown",
      "source": [
        "karena `umur_andi >= 17` adalah False, tidak benar, kondisi tidak terpenuhi\n",
        "\n",
        "jadi keyword `if` memastikan blok kode yang ada di dalam if tersebut tidak jalan.\n",
        "\n",
        "didalam `if` kita diatas, ada blok kode `print(\"Andi boleh ikut kelas dewasa\")`\n",
        "\n",
        "blok kode milik `if` kita diatas bisa dilihat dari jumlah spasi yang ada di kiri `print...`\n",
        "\n",
        "perhatikan ada 2 spas1 (1 indentasi) sebelum kita mulai blok kode print"
      ],
      "metadata": {
        "id": "MpuW4ujoCBSj"
      }
    },
    {
      "cell_type": "code",
      "source": [
        "print(\"ini sebelum if\")\n",
        "\n",
        "if umur_andi >= 17:\n",
        "  print(\"Andi boleh ikut kelas dewasa\")\n",
        "  print(\"ini di dalam if\")\n",
        "\n",
        "\n",
        "print(\"ini sesudah dan diluar blok kode if\")"
      ],
      "metadata": {
        "colab": {
          "base_uri": "https://localhost:8080/"
        },
        "id": "D1NsecYUB7Hq",
        "outputId": "81843400-6bc5-40fd-e07f-b03f8506c5c4"
      },
      "execution_count": null,
      "outputs": [
        {
          "output_type": "stream",
          "name": "stdout",
          "text": [
            "ini sebelum if\n",
            "ini sesudah dan diluar blok kode if\n"
          ]
        }
      ]
    },
    {
      "cell_type": "code",
      "source": [
        "if umur_andi >= 17:\n",
        "  print(\"Andi boleh ikut kelas dewasa\")\n",
        "print(\"a\")"
      ],
      "metadata": {
        "colab": {
          "base_uri": "https://localhost:8080/"
        },
        "id": "UeUCX7oUCiHq",
        "outputId": "131490d6-a015-4189-c8af-6fe1b4fac5f9"
      },
      "execution_count": null,
      "outputs": [
        {
          "output_type": "stream",
          "name": "stdout",
          "text": [
            "a\n"
          ]
        }
      ]
    },
    {
      "cell_type": "markdown",
      "source": [
        "demikian cara membedakan code mana yang milik `if` dan yang bukan milik `if`\n",
        "\n",
        "jika adalah milik `if` maka code tersebut akan ada di indentasi lebih dalam, dan posisi di bawah `if` tersebut."
      ],
      "metadata": {
        "id": "w_wGJB4NC577"
      }
    },
    {
      "cell_type": "code",
      "source": [
        "if umur_andi >= 17:\n",
        "  print(\"Andi boleh ikut kelas dewasa\")\n",
        "\n",
        "if umur_andi < 17:\n",
        "  print(\"Andi boleh ikut kelas anak anak\")"
      ],
      "metadata": {
        "colab": {
          "base_uri": "https://localhost:8080/"
        },
        "id": "w92o72PGC3LJ",
        "outputId": "e8986f38-2024-4ad0-b323-c3b0a4917f76"
      },
      "execution_count": null,
      "outputs": [
        {
          "output_type": "stream",
          "name": "stdout",
          "text": [
            "Andi boleh ikut kelas anak anak\n"
          ]
        }
      ]
    },
    {
      "cell_type": "markdown",
      "source": [
        "if kedua hasil print nya keluar, karena code nya berhasil jalan, karena kondisinya `umur_andi < 17` adalah True"
      ],
      "metadata": {
        "id": "cfgTWeh0DQPr"
      }
    },
    {
      "cell_type": "markdown",
      "source": [
        "### latihan pendek\n",
        "- buatlah sebuah variable berisi sebuah angka\n",
        "- buatlah statement if dengan kondisi variable tersebut lebih besar dari 100\n",
        "- jika kondisi benar, buatlah code di dalam if tersebut menjalankan `print(\"besar\")`"
      ],
      "metadata": {
        "id": "SmVYyiTdDbJa"
      }
    },
    {
      "cell_type": "code",
      "source": [
        "# jawaban latihan pendek\n",
        "n = 300\n",
        "\n",
        "if n > 100:\n",
        "  print(\"besar\")"
      ],
      "metadata": {
        "colab": {
          "base_uri": "https://localhost:8080/"
        },
        "id": "C8TALnWTFaik",
        "outputId": "bf77ed16-17df-4215-b969-3714ec2e0aa5"
      },
      "execution_count": null,
      "outputs": [
        {
          "output_type": "stream",
          "name": "stdout",
          "text": [
            "besar\n"
          ]
        }
      ]
    },
    {
      "cell_type": "code",
      "source": [
        "murid_andi = {\n",
        "    \"nama\": \"Andhika\",\n",
        "    \"umur\": 16,\n",
        "    \"hobi\": [\"makan\", \"belajar hal baru\", \"sepak bola\"]\n",
        "}\n",
        "\n",
        "if murid_andi[\"umur\"] < 17:\n",
        "  print(murid_andi['nama'], \"boleh ikut kelas anak anak\")\n",
        "\n",
        "if murid_andi[\"nama\"] == \"Andhika\":\n",
        "  print(\"kebetulan sekali nama gurunya juga Andhika!\")"
      ],
      "metadata": {
        "colab": {
          "base_uri": "https://localhost:8080/"
        },
        "id": "G2b2Rf4VDMpj",
        "outputId": "06e5259d-8466-46ff-a59f-6f2e5158893e"
      },
      "execution_count": null,
      "outputs": [
        {
          "output_type": "stream",
          "name": "stdout",
          "text": [
            "Andhika boleh ikut kelas anak anak\n",
            "kebetulan sekali nama gurunya juga Andhika!\n"
          ]
        }
      ]
    },
    {
      "cell_type": "code",
      "source": [
        "murid_andi[\"umur\"]"
      ],
      "metadata": {
        "colab": {
          "base_uri": "https://localhost:8080/"
        },
        "id": "4kZ3NMt0FZ6T",
        "outputId": "8442f397-2af0-4a92-bd71-84712f4fb421"
      },
      "execution_count": null,
      "outputs": [
        {
          "output_type": "execute_result",
          "data": {
            "text/plain": [
              "16"
            ]
          },
          "metadata": {},
          "execution_count": 10
        }
      ]
    },
    {
      "cell_type": "markdown",
      "source": [
        "kita sudah kurang lebih mengerti konsep if, dengan kondisinya, dan bagaimana dia memisahkan code yang jalan dan code yang tidak. code milik `if` jalan kalau kondisinya True.\n",
        "\n",
        "`if` punya teman keyword `else`. kalau kondisinya False maka code milik `else` akan jalan.\n",
        "\n",
        "berdua if dan else bisa memastikan ada code berbeda yang jalan kalau kondisinya True atau False. True masuk ke kode milik if. False masuk ke kode milik else."
      ],
      "metadata": {
        "id": "BBxx69fuFq3T"
      }
    },
    {
      "cell_type": "code",
      "source": [
        "# misalnya kedua if untuk kelas Andi tadi kita bisa gabungkan jadi satu\n",
        "# kalau umur < 17 maka masuk kelas anak anak\n",
        "# kalau tidak, maka masuk kelas dewasa\n",
        "umur_andi = 63\n",
        "\n",
        "if umur_andi < 17:\n",
        "  print(\"masuk kelas anak anak\")\n",
        "else:\n",
        "  print(\"masuk kelas dewasa\")"
      ],
      "metadata": {
        "colab": {
          "base_uri": "https://localhost:8080/"
        },
        "id": "F7fIGMYyFjqh",
        "outputId": "1490ecf8-9043-4a13-f879-4f5aea75b3ad"
      },
      "execution_count": null,
      "outputs": [
        {
          "output_type": "stream",
          "name": "stdout",
          "text": [
            "masuk kelas dewasa\n"
          ]
        }
      ]
    },
    {
      "cell_type": "markdown",
      "source": [
        "selain `if` dan `else`, mereka punya satu teman lagi `elif`\n",
        "\n",
        "`elif` adalah gabungan else if. bayangkan ini seperti anak anak yang sedang bertanya \"sudah sampai belum?\" kalau belum \"sekarang sudah belum?\" berulang kali ada lebih dari 1 pertanyaan.\n",
        "\n",
        "bisa juga kita bayangkan ada banyak kelas dengan rentang umur berbeda. ada tk sd smp sma kuliah kelas_sertifikasi. masing masing memiliki requirement rentang umur yang berbeda. kita pakai contoh 3 jenis kelas dulu:\n",
        "- sd smp sma --- umur 6 sampai 18\n",
        "- kuliah --- 17 sampai 30\n",
        "- kelas sertifikasi --- 17 keatas\n",
        "\n",
        "untuk membuat lebih simpel, kita bilang saja masing masing kelas pembagian umurnya seperti ini:\n",
        "- anak anak - dibawah 17 tahun\n",
        "- kuliah - 17 sampai 24 tahun\n",
        "- kelas sertifikasi 25 tahun keatas"
      ],
      "metadata": {
        "id": "4uIrxQlmGxR0"
      }
    },
    {
      "cell_type": "code",
      "source": [
        "umur_andi = 20\n",
        "\n",
        "if umur_andi < 17:\n",
        "  print(\"masuk kelas anak anak\")\n",
        "elif umur_andi <= 24:\n",
        "  print(\"masuk kelas kuliah\")\n",
        "else:\n",
        "  print(\"masuk kelas sertifikasi\")"
      ],
      "metadata": {
        "colab": {
          "base_uri": "https://localhost:8080/"
        },
        "id": "ixOzL5BJGcSV",
        "outputId": "bddc0bde-ef86-4d9b-b605-797e6d5d0c0c"
      },
      "execution_count": null,
      "outputs": [
        {
          "output_type": "stream",
          "name": "stdout",
          "text": [
            "masuk kelas kuliah\n"
          ]
        }
      ]
    },
    {
      "cell_type": "markdown",
      "source": [
        "misalnya kita punya sebuah nilai integer\n",
        "\n",
        "kita mau ubah jadi grade A B C D E\n",
        "- A. 90-100\n",
        "- B. 80-89\n",
        "- C. 70-79\n",
        "- D. 60-69\n",
        "- E. dibawah 60\n"
      ],
      "metadata": {
        "id": "bNwK4kuMIBxe"
      }
    },
    {
      "cell_type": "code",
      "source": [
        "nilai = 75\n",
        "print(\"nilai\", nilai)\n",
        "\n",
        "if nilai >= 90:\n",
        "  print(\"A\")\n",
        "elif nilai >= 80:\n",
        "  print(\"B\")\n",
        "elif nilai >= 70:\n",
        "  print(\"C\")\n",
        "elif nilai >= 60:\n",
        "  print(\"D\")\n",
        "else:\n",
        "  print(\"E\")"
      ],
      "metadata": {
        "colab": {
          "base_uri": "https://localhost:8080/"
        },
        "id": "K_P-tnEhHxoz",
        "outputId": "7a307d39-d282-4c34-a79e-9c5968b5ddaa"
      },
      "execution_count": null,
      "outputs": [
        {
          "output_type": "stream",
          "name": "stdout",
          "text": [
            "nilai 75\n",
            "C\n"
          ]
        }
      ]
    },
    {
      "cell_type": "markdown",
      "source": [
        "terakhir untuk konteks `if` `elif` `else` kita pastinya memerlukan \"kondisi\"\n",
        "\n",
        "kondisi ini umumnya adalah komparasi.\n",
        "- nilai apakah lebih dari 90 `>`\n",
        "- umur apakah lebih dari 17 `>`\n",
        "- nama apakah sama dengan \"Andhika\" `==`\n",
        "\n",
        "satu variable berisi satu data, kita komparasi dengan satu data.\n",
        "\n",
        "tapi dia bisa lebih kompleks. dia bisa menanyakan banyak pertanyaan sekaligus. banyak pertanyaan tersebut bisa `harus benar semua` atau `benar salah satu saja`\n",
        "\n",
        "- \"apakah hari ini hujan dan dingin?\" kita harus cek kondisi pertama hujan True dan kondisi kedua dingin True juga. dua duanya harus True, baru jawaban menjadi True\n",
        "- \"apakah besok cerah atau berawan?\" kita harus cek kondisi pertama cerah atau tidak. kita harus cek kondisi kedua berawan atau tidak. salah satu kondisi itu benar, kita jawab pertanyaannya dengan True."
      ],
      "metadata": {
        "id": "SY5HeHbbIrb0"
      }
    },
    {
      "cell_type": "code",
      "source": [
        "# dan\n",
        "# umur andi dan umur budi diatas 17\n",
        "umur_andi = 18\n",
        "umur_budi = 19\n",
        "\n",
        "if umur_andi > 17 and umur_budi > 17:\n",
        "  print(\"umur andi dan budi diatas 17 tahun\")\n",
        "  print(\"umur andi:\", umur_andi)\n",
        "  print(\"umur budi:\", umur_budi)"
      ],
      "metadata": {
        "colab": {
          "base_uri": "https://localhost:8080/"
        },
        "id": "mLRCppwCIgtE",
        "outputId": "10b9dbdc-4e69-482e-c486-0dca1c9c2e8f"
      },
      "execution_count": null,
      "outputs": [
        {
          "output_type": "stream",
          "name": "stdout",
          "text": [
            "umur andi dan budi diatas 17 tahun\n",
            "umur andi: 18\n",
            "umur budi: 19\n"
          ]
        }
      ]
    },
    {
      "cell_type": "code",
      "source": [
        "# cara tulis kondisi bisa sedikit berbeda, bisa kita kurung supaya rapi\n",
        "\n",
        "if (umur_andi > 17) and (umur_budi > 17):\n",
        "  print(\"umur andi dan budi diatas 17 tahun\")\n",
        "  print(\"umur andi:\", umur_andi)\n",
        "  print(\"umur budi:\", umur_budi)"
      ],
      "metadata": {
        "colab": {
          "base_uri": "https://localhost:8080/"
        },
        "id": "U_UDUIqAJ7xC",
        "outputId": "60f0a8ce-512d-4455-a6b0-664797ee9c80"
      },
      "execution_count": null,
      "outputs": [
        {
          "output_type": "stream",
          "name": "stdout",
          "text": [
            "umur andi dan budi diatas 17 tahun\n",
            "umur andi: 18\n",
            "umur budi: 19\n"
          ]
        }
      ]
    },
    {
      "cell_type": "code",
      "source": [
        "# or\n",
        "# salah satu dari andi dan budi harus diatas 17 tahun\n",
        "umur_andi = 18\n",
        "umur_budi = 9\n",
        "\n",
        "if (umur_andi > 17) or (umur_budi > 17):\n",
        "  print(\"umur andi atau budi ada yang diatas 17 tahun\")\n",
        "  print(\"umur andi:\", umur_andi)\n",
        "  print(\"umur budi:\", umur_budi)"
      ],
      "metadata": {
        "colab": {
          "base_uri": "https://localhost:8080/"
        },
        "id": "DRGcSTVUKJcy",
        "outputId": "e3eb98cc-7673-4540-86d2-c70ff2501e0d"
      },
      "execution_count": null,
      "outputs": [
        {
          "output_type": "stream",
          "name": "stdout",
          "text": [
            "umur andi atau budi ada yang diatas 17 tahun\n",
            "umur andi: 18\n",
            "umur budi: 9\n"
          ]
        }
      ]
    },
    {
      "cell_type": "markdown",
      "source": [
        "nested if\n",
        "\n",
        "dalam if bisa ada if lagi"
      ],
      "metadata": {
        "id": "MwEwSwwtK7Ok"
      }
    },
    {
      "cell_type": "code",
      "source": [
        "# misalnya kalau andi 17 tahun keatas\n",
        "# berarti dia punya KTP dong? apakah dia punya KTP?\n",
        "# kalau punya, boleh beli tiket pesawat\n",
        "\n",
        "umur_andi = 18\n",
        "andi_punya_ktp = True\n",
        "\n",
        "if umur_andi >= 17:\n",
        "  print(\"Andi sudah umur 17 keatas\")\n",
        "\n",
        "  if andi_punya_ktp:\n",
        "    print(\"Andi juga sudah punya KTP\")\n",
        "    print(\"boleh beli tiket pesawat\")"
      ],
      "metadata": {
        "colab": {
          "base_uri": "https://localhost:8080/"
        },
        "id": "9BQK0lWGKUmr",
        "outputId": "59eb1054-c5a8-4ee6-a10c-ba7f0b0b2581"
      },
      "execution_count": null,
      "outputs": [
        {
          "output_type": "stream",
          "name": "stdout",
          "text": [
            "Andi sudah umur 17 keatas\n",
            "Andi juga sudah punya KTP\n",
            "boleh beli tiket pesawat\n"
          ]
        }
      ]
    },
    {
      "cell_type": "markdown",
      "source": [
        "## Loop\n",
        "kalau if menanyakan 1 pertanyaan. yang bisa dilanjutkan dengan elif pertanyaan berikut. else sebagai pertanyaan terakhir kalau semua if dan elif jawabannya False. maka Loop adalah pertanyaan berulang terus terusan tanpa akhir.\n",
        "\n",
        "Loop adalah teknik dimana kita melakukan hal yang sama berulang kali.\n",
        "\n",
        "ada Loop jenis `while` yang bertanya berulang kali. seperti `if` yang tidak ada akhirnya.\n",
        "\n",
        "ada Loop jenis `for` yang bertanya x kali. khusus untuk mengulang sebanyak barang yang ada di sebuah koleksi. misalnya ada list isi 5 string, maka kita bisa for loop 5 kali, sekali untuk setiap string yang ada di dalam list tersebut.\n",
        "\n",
        "### while\n",
        "```python\n",
        "while `kondisi`:\n",
        "  # blok kode milik while\n",
        "  print(\"misalnya print ini, akan terus berjalan selama `kondisi` True\")\n",
        "```\n",
        "\n",
        "contoh diatas, print nya akan berjalan terus terusan, selamanya, sampai pc kita error. jadi apa gunanya loop `while` ini?\n",
        "- kita harus melakukan sesuatu di dalam blok kode `while` yang mengubah kondisi menjadi False\n",
        "- cara tulis kondisi sama seperti kondisi `if`\n",
        "- tapi pastikan di dalam blok kode `while` ada kode yang mengubah kondisi tersebut hingga bisa berubah jadi False"
      ],
      "metadata": {
        "id": "9trukE5sLdf9"
      }
    },
    {
      "cell_type": "code",
      "source": [
        "# contohnya, kita makan sesuap sesuap sampai kenyak\n",
        "\n",
        "jumlah_suap = 0\n",
        "\n",
        "# if jalannya hanya 1 kali, jadi kita tidak bisa menambah jumlah suap satu per satu sampai kenyang,\n",
        "if jumlah_suap < 20:\n",
        "  print(\"lapar, makan satu suap lagi\")\n",
        "else:\n",
        "  print(\"kenyang\")"
      ],
      "metadata": {
        "colab": {
          "base_uri": "https://localhost:8080/"
        },
        "id": "wQ8ETAMPLZFj",
        "outputId": "cf432208-2d6b-4405-b91e-33f496d29f16"
      },
      "execution_count": null,
      "outputs": [
        {
          "output_type": "stream",
          "name": "stdout",
          "text": [
            "lapar, makan satu suap lagi\n"
          ]
        }
      ]
    },
    {
      "cell_type": "code",
      "source": [
        "jumlah_suap = 0\n",
        "\n",
        "# kita gunakan loop while untuk itu\n",
        "while jumlah_suap < 20:\n",
        "  print(\"lapar, makan lima suap lagi\")\n",
        "  print(\"jumlah suap:\", jumlah_suap)\n",
        "  jumlah_suap = jumlah_suap + 5\n",
        "else:\n",
        "  print(\"sudah kenyang\")\n",
        "  print(\"jumlah suap:\", jumlah_suap)"
      ],
      "metadata": {
        "colab": {
          "base_uri": "https://localhost:8080/"
        },
        "id": "2Ci6531zPUyu",
        "outputId": "7a3acc14-29d8-419b-c6da-2d2cddfb4e4b"
      },
      "execution_count": null,
      "outputs": [
        {
          "output_type": "stream",
          "name": "stdout",
          "text": [
            "lapar, makan lima suap lagi\n",
            "jumlah suap: 0\n",
            "lapar, makan lima suap lagi\n",
            "jumlah suap: 5\n",
            "lapar, makan lima suap lagi\n",
            "jumlah suap: 10\n",
            "lapar, makan lima suap lagi\n",
            "jumlah suap: 15\n",
            "sudah kenyang\n",
            "jumlah suap: 20\n"
          ]
        }
      ]
    },
    {
      "cell_type": "code",
      "source": [
        "jumlah_suap = 0\n",
        "\n",
        "# tidak harus pakai else juga bisa\n",
        "# kita gunakan loop while untuk itu\n",
        "while jumlah_suap < 20:\n",
        "  print(\"lapar, makan lima suap lagi\")\n",
        "  print(\"jumlah suap:\", jumlah_suap)\n",
        "  jumlah_suap = jumlah_suap + 5\n",
        "\n",
        "print(\"sudah kenyang\")\n",
        "print(\"jumlah suap:\", jumlah_suap)"
      ],
      "metadata": {
        "colab": {
          "base_uri": "https://localhost:8080/"
        },
        "id": "R6HcJTeSPLX_",
        "outputId": "10a2684d-cac4-4929-bee5-94027fa2dd89"
      },
      "execution_count": null,
      "outputs": [
        {
          "output_type": "stream",
          "name": "stdout",
          "text": [
            "lapar, makan lima suap lagi\n",
            "jumlah suap: 0\n",
            "lapar, makan lima suap lagi\n",
            "jumlah suap: 5\n",
            "lapar, makan lima suap lagi\n",
            "jumlah suap: 10\n",
            "lapar, makan lima suap lagi\n",
            "jumlah suap: 15\n",
            "sudah kenyang\n",
            "jumlah suap: 20\n"
          ]
        }
      ]
    },
    {
      "cell_type": "markdown",
      "source": [
        "### latihan pendek\n",
        "diberikan sebuah angka random 70\n",
        "\n",
        "buatlah loop yang mencetak angka dari 70 hingga 80\n",
        "\n",
        "70\n",
        "71\n",
        "72\n",
        ".\n",
        ".\n",
        "80\n",
        "\n",
        "gunakan while loop"
      ],
      "metadata": {
        "id": "wsZF8aSWP4H-"
      }
    },
    {
      "cell_type": "code",
      "source": [
        "n = 70\n",
        "\n",
        "while n <= 80:\n",
        "  print(n)\n",
        "  n = n + 1"
      ],
      "metadata": {
        "colab": {
          "base_uri": "https://localhost:8080/"
        },
        "id": "kYTAzSAiPwBV",
        "outputId": "bcee2d05-c403-408b-de90-1b28a236257f"
      },
      "execution_count": null,
      "outputs": [
        {
          "output_type": "stream",
          "name": "stdout",
          "text": [
            "70\n",
            "71\n",
            "72\n",
            "73\n",
            "74\n",
            "75\n",
            "76\n",
            "77\n",
            "78\n",
            "79\n",
            "80\n"
          ]
        }
      ]
    },
    {
      "cell_type": "markdown",
      "source": [
        "contoh diatas sebenarnya bisa kita bilang seperti mencetak koleksi angka. angka dari 70 hingga 80.\n",
        "\n",
        "untuk melakukan hal yang sama ke satu per satu barang di sebuah koleksi, kita lebih cocok menggunakan `for`\n",
        "\n",
        "```python\n",
        "for <barang> in <koleksi>:\n",
        "  # lakukan sesuatu ke barang\n",
        "  # lakukan hal lain\n",
        "```\n",
        "\n",
        "koleksi angka bisa kita buat menggunakan `range()`"
      ],
      "metadata": {
        "id": "ksXBOsyzSsEQ"
      }
    },
    {
      "cell_type": "code",
      "source": [
        "range(10)"
      ],
      "metadata": {
        "colab": {
          "base_uri": "https://localhost:8080/"
        },
        "id": "LdwX1ICbSnxu",
        "outputId": "25a86e10-16c7-407d-c82e-21f31c59cdf1"
      },
      "execution_count": null,
      "outputs": [
        {
          "output_type": "execute_result",
          "data": {
            "text/plain": [
              "range(0, 10)"
            ]
          },
          "metadata": {},
          "execution_count": 39
        }
      ]
    },
    {
      "cell_type": "code",
      "source": [
        "for n in range(10):\n",
        "  print(n)"
      ],
      "metadata": {
        "colab": {
          "base_uri": "https://localhost:8080/"
        },
        "id": "WDejY252TDOe",
        "outputId": "74589836-41c9-4740-82a3-9b70178a4953"
      },
      "execution_count": null,
      "outputs": [
        {
          "output_type": "stream",
          "name": "stdout",
          "text": [
            "0\n",
            "1\n",
            "2\n",
            "3\n",
            "4\n",
            "5\n",
            "6\n",
            "7\n",
            "8\n",
            "9\n"
          ]
        }
      ]
    },
    {
      "cell_type": "code",
      "source": [
        "# selain koleksi angka, list juga termasuk koleksi\n",
        "buah_buahan = [\"apel\", \"pisang\", \"jeruk\", \"nangka\", \"duku\"]\n",
        "\n",
        "for buah in buah_buahan:\n",
        "  print(buah)"
      ],
      "metadata": {
        "colab": {
          "base_uri": "https://localhost:8080/"
        },
        "id": "j_WJuFgxTGL8",
        "outputId": "1195b119-d6de-426d-8f8d-9ff3efe284ed"
      },
      "execution_count": null,
      "outputs": [
        {
          "output_type": "stream",
          "name": "stdout",
          "text": [
            "apel\n",
            "pisang\n",
            "jeruk\n",
            "nangka\n",
            "duku\n"
          ]
        }
      ]
    },
    {
      "cell_type": "code",
      "source": [
        "# selain list, string juga merupakan koleksi karakter\n",
        "\n",
        "for huruf in \"Hacktiv8\":\n",
        "  print(huruf)"
      ],
      "metadata": {
        "colab": {
          "base_uri": "https://localhost:8080/"
        },
        "id": "EcPK2BtSTPb1",
        "outputId": "fedc157a-cf48-4c43-c640-81b8e32a8bb9"
      },
      "execution_count": null,
      "outputs": [
        {
          "output_type": "stream",
          "name": "stdout",
          "text": [
            "H\n",
            "a\n",
            "c\n",
            "k\n",
            "t\n",
            "i\n",
            "v\n",
            "8\n"
          ]
        }
      ]
    },
    {
      "cell_type": "markdown",
      "source": [
        "bahasa pemrograman sangat kaku, kita tidak bisa meminta program untuk melakukan hal yang kompleks. misalnya \"carikan air\"\n",
        "\n",
        "program tidak mengerti \"air\"\n",
        "\n",
        "yang bisa dilakukan program, terlimitasi ke tipe data yang bisa dia mengerti: int float str bool\n",
        "\n",
        "kita bisa minta \"carikan angka yang kalau dibagi 10 hasilnya adalah 3\"\n",
        "- tapi cara carinya gimana? kita pakai loop, kita pecahkan masalah nya menjadi hal kecil yang bisa ditemukan kalau kita ulang ber kali kali"
      ],
      "metadata": {
        "id": "dSvTcKvYTwKY"
      }
    },
    {
      "cell_type": "code",
      "source": [
        "for n in range(100):\n",
        "  if (n / 10 == 3):\n",
        "    print(\"ketemu, angka ini dibagi 10 hasilnya 3:\", n)"
      ],
      "metadata": {
        "colab": {
          "base_uri": "https://localhost:8080/"
        },
        "id": "gXdm7Kz5TZdl",
        "outputId": "95cc8722-4371-4034-ad08-ad8b5f2c766b"
      },
      "execution_count": null,
      "outputs": [
        {
          "output_type": "stream",
          "name": "stdout",
          "text": [
            "ketemu, angka ini dibagi 10 hasilnya 3: 30\n"
          ]
        }
      ]
    },
    {
      "cell_type": "markdown",
      "source": [
        "# Recap\n",
        "\n",
        "di sesi 1 kita mempelajari:\n",
        "- struktur data primitif\n",
        "- variable\n",
        "- struktur data list, dictionary\n",
        "\n",
        "di sesi 2 kita mempelajari:\n",
        "- teknik kondisional `if` `elif` `else`\n",
        "- teknik loop `while` dan `for`\n",
        "\n",
        "dengan semua teknik ini, kita bisa membuat program kecil.\n",
        "\n",
        "Misalnya dari kumpulan data murid, kita bisa cari yang rata-rata nilainya diatas 70.\n",
        "\n",
        "1. kita siapkan dulu kumpulan data muridnya. misalnya adalah sebuah list berisi nama dan nilai rata-rata murid\n",
        "2. kita gunakan loop `for` untuk mengulang, satu per satu, setiap murid, kita jalankan kode pengecekan nilai\n",
        "3. saat melakukan kode pengecekan nilai, kita cek apakah nilainya diatas 70\n",
        "4. kalau iya, kita simpan murid ini ke sebuah list berbeda, yang nilainya diatas 70 saja\n",
        "5. kita tampilkan list berbeda tadi yang khusus murid nilai diatas 70"
      ],
      "metadata": {
        "id": "gGZxulyMVID3"
      }
    },
    {
      "cell_type": "code",
      "source": [
        "# misalnya murid itu dictionary dengan \"nama\" dan \"nilai\"\n",
        "# \"nama\" adalah string\n",
        "# \"nilai\" adalah integer\n",
        "\n",
        "murid = {\"nama\": \"Andhika Rahardjo\", \"nilai\": 85}"
      ],
      "metadata": {
        "id": "Sm-2u8hIUm9E"
      },
      "execution_count": null,
      "outputs": []
    },
    {
      "cell_type": "code",
      "source": [
        "# misalnya ada 5 murid\n",
        "# kita simpan dalam sebuah list\n",
        "murid_murid = [\n",
        "    {\"nama\": \"Andhika Rahardjo\", \"nilai\": 85},\n",
        "    {\"nama\": \"Budi Budiman\", \"nilai\": 75},\n",
        "    {\"nama\": \"Cindy Cantika\", \"nilai\": 60},\n",
        "    {\"nama\": \"Denisa Trisnadi\", \"nilai\": 80},\n",
        "    {\"nama\": \"Erika Cahyadi\", \"nilai\": 69}\n",
        "]"
      ],
      "metadata": {
        "id": "x-iCSQ9mWeZY"
      },
      "execution_count": null,
      "outputs": []
    },
    {
      "cell_type": "code",
      "source": [
        "# pakai for loop untuk mengambil murid satu per satu dari list murid_murid\n",
        "for murid in murid_murid:\n",
        "  print(murid)"
      ],
      "metadata": {
        "colab": {
          "base_uri": "https://localhost:8080/"
        },
        "id": "RmR31fyOW5wl",
        "outputId": "60ac6275-0d25-421c-97ab-5f1b9c4831f5"
      },
      "execution_count": null,
      "outputs": [
        {
          "output_type": "stream",
          "name": "stdout",
          "text": [
            "{'nama': 'Andhika Rahardjo', 'nilai': 85}\n",
            "{'nama': 'Budi Budiman', 'nilai': 75}\n",
            "{'nama': 'Cindy Cantika', 'nilai': 60}\n",
            "{'nama': 'Denisa Trisnadi', 'nilai': 80}\n",
            "{'nama': 'Erika Cahyadi', 'nilai': 69}\n"
          ]
        }
      ]
    },
    {
      "cell_type": "code",
      "source": [
        "# siapkan list untuk murid nilai diatas 70\n",
        "\n",
        "diatas70 = []\n",
        "\n",
        "for murid in murid_murid:\n",
        "  if murid[\"nilai\"] > 70:\n",
        "    diatas70 = diatas70 + [murid]\n",
        "    # diatas70 += [murid]\n",
        "    # diatas70.append(murid)\n",
        "\n",
        "print(diatas70)"
      ],
      "metadata": {
        "colab": {
          "base_uri": "https://localhost:8080/"
        },
        "id": "pPjWSjqrW9gO",
        "outputId": "81de91fa-3dbd-4098-92e8-31e7398095bf"
      },
      "execution_count": null,
      "outputs": [
        {
          "output_type": "stream",
          "name": "stdout",
          "text": [
            "[{'nama': 'Andhika Rahardjo', 'nilai': 85}, {'nama': 'Budi Budiman', 'nilai': 75}, {'nama': 'Denisa Trisnadi', 'nilai': 80}]\n"
          ]
        }
      ]
    },
    {
      "cell_type": "markdown",
      "source": [
        "### latihan pendek\n",
        "lanjutkan program kecil diatas, kali ini dengan data murid yang nilainya lebih dari satu. ada 4 nilai: ass1, ass2, ass3, finalproject. data murid sudah dibuatkan berikut"
      ],
      "metadata": {
        "id": "aD4KRP8vXn3I"
      }
    },
    {
      "cell_type": "code",
      "source": [
        "murid_murid = [\n",
        "    {\"nama\": \"Andhika Rahardjo\", \"nilai\": [85, 65, 90, 70]},\n",
        "    {\"nama\": \"Budi Budiman\", \"nilai\": [75, 70, 65, 60]},\n",
        "    {\"nama\": \"Cindy Cantika\", \"nilai\": [60, 70, 80, 90]},\n",
        "    {\"nama\": \"Denisa Trisnadi\", \"nilai\": [80, 85, 90, 60]},\n",
        "    {\"nama\": \"Erika Cahyadi\", \"nilai\": [69, 88, 77, 60]}\n",
        "]\n",
        "\n",
        "diatas70 = []\n",
        "\n",
        "# untuk setiap murid\n",
        "for murid in murid_murid:\n",
        "  # kita ambil nilai nilai muridnya\n",
        "  nilai_nilai = murid[\"nilai\"]\n",
        "\n",
        "  # kita hitung rata rata nilai nilai tersebut\n",
        "  total_nilai = 0\n",
        "  for nilai in nilai_nilai:\n",
        "    total_nilai = total_nilai + nilai\n",
        "\n",
        "  rata_nilai = total_nilai / len(nilai_nilai)\n",
        "  murid[\"rata_nilai\"] = rata_nilai\n",
        "\n",
        "  # setelah mengetahui rata rata nilai murid ini, kita cek apakah sama dengan atau lebih dari 70\n",
        "  if rata_nilai >= 70:\n",
        "    # kalau iya, kita tambahkan murid ini ke list diatas70\n",
        "    diatas70 = diatas70 + [murid]\n",
        "\n",
        "# selesai, kita tampilkan murid mana saja yang rata-rata nilainya diatas 70\n",
        "print(diatas70)"
      ],
      "metadata": {
        "colab": {
          "base_uri": "https://localhost:8080/"
        },
        "id": "zt0pfG1OXfiv",
        "outputId": "6cae51c9-e2f0-4592-d8ad-64cfe384a741"
      },
      "execution_count": null,
      "outputs": [
        {
          "output_type": "stream",
          "name": "stdout",
          "text": [
            "[{'nama': 'Andhika Rahardjo', 'nilai': [85, 65, 90, 70], 'rata_nilai': 77.5}, {'nama': 'Cindy Cantika', 'nilai': [60, 70, 80, 90], 'rata_nilai': 75.0}, {'nama': 'Denisa Trisnadi', 'nilai': [80, 85, 90, 60], 'rata_nilai': 78.75}, {'nama': 'Erika Cahyadi', 'nilai': [69, 88, 77, 60], 'rata_nilai': 73.5}]\n"
          ]
        }
      ]
    },
    {
      "cell_type": "code",
      "source": [
        "nilai_nilai = [50,60,70,80]\n",
        "\n",
        "len(nilai_nilai)"
      ],
      "metadata": {
        "colab": {
          "base_uri": "https://localhost:8080/"
        },
        "id": "yVn11l4NeOoS",
        "outputId": "f08afab9-3ee6-47c1-f12d-40e844cb9ddf"
      },
      "execution_count": null,
      "outputs": [
        {
          "output_type": "execute_result",
          "data": {
            "text/plain": [
              "4"
            ]
          },
          "metadata": {},
          "execution_count": 56
        }
      ]
    },
    {
      "cell_type": "code",
      "source": [
        "(50+60+70+80) / 4"
      ],
      "metadata": {
        "colab": {
          "base_uri": "https://localhost:8080/"
        },
        "id": "Zv8m3ikaeTmJ",
        "outputId": "a251bd63-d066-4c8d-c61c-41364efa56db"
      },
      "execution_count": null,
      "outputs": [
        {
          "output_type": "execute_result",
          "data": {
            "text/plain": [
              "65.0"
            ]
          },
          "metadata": {},
          "execution_count": 57
        }
      ]
    },
    {
      "cell_type": "code",
      "source": [
        "list_campur = [True, 1235, 43.7, \"halo\", {}, []]\n",
        "\n",
        "len(list_campur)"
      ],
      "metadata": {
        "colab": {
          "base_uri": "https://localhost:8080/"
        },
        "id": "ymt7boA2egdp",
        "outputId": "b12ed166-a6f9-4a98-e4fc-98afbeb31074"
      },
      "execution_count": null,
      "outputs": [
        {
          "output_type": "execute_result",
          "data": {
            "text/plain": [
              "6"
            ]
          },
          "metadata": {},
          "execution_count": 58
        }
      ]
    },
    {
      "cell_type": "markdown",
      "source": [
        "len khusus untuk list dan string, isi list nya bebas"
      ],
      "metadata": {
        "id": "J1dAJK6PecjC"
      }
    },
    {
      "cell_type": "code",
      "source": [
        "# kita bisa pakai loop juga untuk print muridnya satu per satu dengan lebih rapi\n",
        "print(\"murid yang nilai rata ratanya diatas 70\")\n",
        "\n",
        "for m in diatas70:\n",
        "  print(m[\"nama\"], \":\", m[\"rata_nilai\"])"
      ],
      "metadata": {
        "colab": {
          "base_uri": "https://localhost:8080/"
        },
        "id": "kdsgtIpjcryH",
        "outputId": "02c9cf4d-5f03-4625-8833-fd4633a2531c"
      },
      "execution_count": null,
      "outputs": [
        {
          "output_type": "stream",
          "name": "stdout",
          "text": [
            "murid yang nilai rata ratanya diatas 70\n",
            "Andhika Rahardjo : 77.5\n",
            "Cindy Cantika : 75.0\n",
            "Denisa Trisnadi : 78.75\n",
            "Erika Cahyadi : 73.5\n"
          ]
        }
      ]
    },
    {
      "cell_type": "code",
      "source": [
        "for m in murid_murid:\n",
        "  print(m[\"nama\"], \":\", m[\"rata_nilai\"])"
      ],
      "metadata": {
        "colab": {
          "base_uri": "https://localhost:8080/"
        },
        "id": "cbD2yUR4c05u",
        "outputId": "27af91b3-c671-4885-dcd6-79356039f1b0"
      },
      "execution_count": null,
      "outputs": [
        {
          "output_type": "stream",
          "name": "stdout",
          "text": [
            "Andhika Rahardjo : 77.5\n",
            "Budi Budiman : 67.5\n",
            "Cindy Cantika : 75.0\n",
            "Denisa Trisnadi : 78.75\n",
            "Erika Cahyadi : 73.5\n"
          ]
        }
      ]
    },
    {
      "cell_type": "code",
      "source": [],
      "metadata": {
        "id": "GqYKiUG8dNDh"
      },
      "execution_count": null,
      "outputs": []
    }
  ]
}